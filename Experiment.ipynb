{
 "cells": [
  {
   "cell_type": "markdown",
   "id": "4e2b8292-83c5-40fd-b54b-0ddebabd83db",
   "metadata": {},
   "source": [
    "# AdaptSize\n",
    "Paper: https://www.usenix.org/conference/nsdi17/technical-sessions/presentation/berger\n",
    "## Overview\n",
    "AdaptSize is Admission algorithm that use modified size probabilistic to admit an object. AdaptSize recalculate the C for every N request. \n",
    "\n",
    "I've implemented AdaptSize on libCacheSim and below is an example on how to run it."
   ]
  },
  {
   "cell_type": "markdown",
   "id": "2f290982-4f14-4bcb-ad39-8d900a3c86d3",
   "metadata": {
    "tags": []
   },
   "source": [
    "## Setup Server to Run Our Experiment"
   ]
  },
  {
   "cell_type": "code",
   "execution_count": 107,
   "id": "54bb5f3e-14f6-4634-8963-6f594f775f5d",
   "metadata": {
    "tags": []
   },
   "outputs": [
    {
     "data": {
      "application/vnd.jupyter.widget-view+json": {
       "model_id": "721165d5701e4772918a7d621d351138",
       "version_major": 2,
       "version_minor": 0
      },
      "text/plain": [
       "VBox(children=(Dropdown(description='Select Site', options=('CHI@TACC', 'CHI@UC', 'CHI@EVL', 'CHI@NCAR', 'CHI@…"
      ]
     },
     "metadata": {},
     "output_type": "display_data"
    },
    {
     "data": {
      "application/vnd.jupyter.widget-view+json": {
       "model_id": "df3019cc5e084d5a8f8954186ce86a08",
       "version_major": 2,
       "version_minor": 0
      },
      "text/plain": [
       "VBox(children=(Dropdown(description='Select Project', options=('CHI-251412',), value='CHI-251412'), Output()))"
      ]
     },
     "metadata": {},
     "output_type": "display_data"
    }
   ],
   "source": [
    "from chi import context\n",
    "\n",
    "# During the transition period, we need to opt into the some of the \n",
    "# new python-chi functions. Otherwise the functional interface will\n",
    "# return the old types.\n",
    "context.version = \"1.0\"\n",
    "\n",
    "context.choose_site(default=\"CHI@TACC\")\n",
    "context.choose_project()"
   ]
  },
  {
   "cell_type": "code",
   "execution_count": 108,
   "id": "19efdbea-1b89-41fb-b97d-9237e8e9a07a",
   "metadata": {
    "tags": []
   },
   "outputs": [
    {
     "name": "stdout",
     "output_type": "stream",
     "text": [
      "There currently are 31 compute_cascadelake_r nodes ready to use\n"
     ]
    }
   ],
   "source": [
    "from chi import hardware\n",
    "\n",
    "node_type = \"compute_cascadelake_r\"\n",
    "available_nodes = hardware.get_nodes(node_type=node_type, filter_reserved=True)\n",
    "if available_nodes:\n",
    "    print(f\"There currently are {len(available_nodes)} {node_type} nodes ready to use\")\n",
    "else:\n",
    "    print(f\"All {node_type} nodes are in use! You could use next_free_timeslot to see how long you need to wait, or use the calendar.\")"
   ]
  },
  {
   "cell_type": "code",
   "execution_count": 109,
   "id": "d41f777b-fa2b-4a7c-abf6-3a113c63900b",
   "metadata": {
    "tags": []
   },
   "outputs": [
    {
     "name": "stdout",
     "output_type": "stream",
     "text": [
      "Waiting for lease to start... This can take up to 60 seconds\n"
     ]
    },
    {
     "data": {
      "application/vnd.jupyter.widget-view+json": {
       "model_id": "99b4fb264ab3466c84ae203934db044a",
       "version_major": 2,
       "version_minor": 0
      },
      "text/plain": [
       "HBox(children=(Label(value=''), IntProgress(value=0, bar_style='success')))"
      ]
     },
     "metadata": {},
     "output_type": "display_data"
    },
    {
     "name": "stdout",
     "output_type": "stream",
     "text": [
      "Lease haekal_muhamat_gmail_com-cachesim has reached status active\n"
     ]
    }
   ],
   "source": [
    "from chi import lease\n",
    "from datetime import timedelta\n",
    "import os\n",
    "\n",
    "my_lease = lease.Lease(f\"{os.getenv('USER')}-cachesim\", duration=timedelta(hours=3))\n",
    "my_lease.add_node_reservation(nodes=[available_nodes[0]]) # or you could use node_type=node_type\n",
    "my_lease.add_fip_reservation(1) # include a floating ip\n",
    "my_lease.submit(idempotent=True)"
   ]
  },
  {
   "cell_type": "code",
   "execution_count": 110,
   "id": "9a1b4f69-a70a-4195-bfb9-3c68420df3e5",
   "metadata": {
    "tags": []
   },
   "outputs": [
    {
     "name": "stdout",
     "output_type": "stream",
     "text": [
      "Waiting for server haekal_muhamat_gmail_com-cachesim's status to become ACTIVE. This typically takes 10 minutes, but can take up to 20 minutes.\n"
     ]
    },
    {
     "data": {
      "application/vnd.jupyter.widget-view+json": {
       "model_id": "90e6160bf55348aeb4d3f1013e9c895d",
       "version_major": 2,
       "version_minor": 0
      },
      "text/plain": [
       "HBox(children=(Label(value=''), IntProgress(value=0, bar_style='success')))"
      ]
     },
     "metadata": {},
     "output_type": "display_data"
    },
    {
     "name": "stdout",
     "output_type": "stream",
     "text": [
      "Server has moved to status ACTIVE\n"
     ]
    },
    {
     "data": {
      "text/html": [
       "<table style='border-collapse: collapse; width: 100%;'><tr style='background-color: #f2f2f2;'><th style='border: 1px solid #ddd; padding: 8px;'>Attribute</th><th style='border: 1px solid #ddd; padding: 8px;'>haekal_muhamat_gmail_com-cachesim</th></tr><tr><td style='border: 1px solid #ddd; padding: 8px;'>Id</td><td style='border: 1px solid #ddd; padding: 8px;'>5b4dfa4c-23ef-4b3b-a91a-48af40e4b705</td></tr><tr><td style='border: 1px solid #ddd; padding: 8px;'>Status</td><td style='border: 1px solid #ddd; padding: 8px;'>ACTIVE</td></tr><tr><td style='border: 1px solid #ddd; padding: 8px;'>Image Name</td><td style='border: 1px solid #ddd; padding: 8px;'>CC-Ubuntu22.04</td></tr><tr><td style='border: 1px solid #ddd; padding: 8px;'>Flavor Name</td><td style='border: 1px solid #ddd; padding: 8px;'>baremetal</td></tr><tr><td style='border: 1px solid #ddd; padding: 8px;'>Addresses</td><td style='border: 1px solid #ddd; padding: 8px;'><strong>sharednet1:</strong><br>&nbsp;&nbsp;IP: 10.52.0.89 (v4)<br>&nbsp;&nbsp;Type: fixed<br>&nbsp;&nbsp;MAC: bc:97:e1:c4:30:80<br></td></tr><tr><td style='border: 1px solid #ddd; padding: 8px;'>Network Name</td><td style='border: 1px solid #ddd; padding: 8px;'>sharednet1</td></tr><tr><td style='border: 1px solid #ddd; padding: 8px;'>Created At</td><td style='border: 1px solid #ddd; padding: 8px;'>2025-04-11T09:26:00Z</td></tr><tr><td style='border: 1px solid #ddd; padding: 8px;'>Keypair</td><td style='border: 1px solid #ddd; padding: 8px;'>haekal_muhamat_gmail_com-jupyter</td></tr><tr><td style='border: 1px solid #ddd; padding: 8px;'>Reservation Id</td><td style='border: 1px solid #ddd; padding: 8px;'>0cf500b2-3c58-411c-b052-58702a8d728d</td></tr><tr><td style='border: 1px solid #ddd; padding: 8px;'>Host Id</td><td style='border: 1px solid #ddd; padding: 8px;'>b281b13a05d4a4d342f673906de4005142c2819a049809e34ac97306</td></tr><tr><td style='border: 1px solid #ddd; padding: 8px;'>Host Status</td><td style='border: 1px solid #ddd; padding: 8px;'>None</td></tr><tr><td style='border: 1px solid #ddd; padding: 8px;'>Hypervisor Hostname</td><td style='border: 1px solid #ddd; padding: 8px;'>05e4d546-6c73-4d66-8b83-3fad392d149a</td></tr><tr><td style='border: 1px solid #ddd; padding: 8px;'>Is Locked</td><td style='border: 1px solid #ddd; padding: 8px;'>False</td></tr></table>"
      ],
      "text/plain": [
       "<IPython.core.display.HTML object>"
      ]
     },
     "metadata": {},
     "output_type": "display_data"
    }
   ],
   "source": [
    "from chi import server\n",
    "\n",
    "my_server = server.Server(\n",
    "    f\"{os.getenv('USER')}-cachesim\",\n",
    "    reservation_id=my_lease.node_reservations[0][\"id\"],\n",
    "    image_name=\"CC-Ubuntu22.04\", # or use image_name\n",
    ")\n",
    "my_server.submit(idempotent=True)"
   ]
  },
  {
   "cell_type": "code",
   "execution_count": 111,
   "id": "05865c7c-0baa-4a64-ba05-9d494c17d21b",
   "metadata": {
    "tags": []
   },
   "outputs": [
    {
     "name": "stdout",
     "output_type": "stream",
     "text": [
      "Checking connectivity to 129.114.109.70 port 22.\n"
     ]
    },
    {
     "data": {
      "application/vnd.jupyter.widget-view+json": {
       "model_id": "cc30a4c8063a440bba182e2e613e1e43",
       "version_major": 2,
       "version_minor": 0
      },
      "text/plain": [
       "HBox(children=(Label(value=''), IntProgress(value=0, bar_style='success')))"
      ]
     },
     "metadata": {},
     "output_type": "display_data"
    },
    {
     "name": "stdout",
     "output_type": "stream",
     "text": [
      "Connection successful\n"
     ]
    }
   ],
   "source": [
    "fip = my_lease.get_reserved_floating_ips()[0]\n",
    "my_server.associate_floating_ip(fip)\n",
    "my_server.check_connectivity(host=fip)"
   ]
  },
  {
   "cell_type": "markdown",
   "id": "67c9a602-1381-4d5d-a67c-d3ecd36148fa",
   "metadata": {
    "tags": []
   },
   "source": [
    "## Setup Our Experiment"
   ]
  },
  {
   "cell_type": "markdown",
   "id": "95d8c415-59c9-40e2-953b-8c87e7873bda",
   "metadata": {
    "tags": []
   },
   "source": [
    "### Install Dependencies"
   ]
  },
  {
   "cell_type": "code",
   "execution_count": 113,
   "id": "b85c0fe2-e86a-4725-b81d-813209513648",
   "metadata": {
    "tags": []
   },
   "outputs": [
    {
     "name": "stderr",
     "output_type": "stream",
     "text": [
      "\n",
      "WARNING: apt does not have a stable CLI interface. Use with caution in scripts.\n",
      "\n"
     ]
    },
    {
     "name": "stdout",
     "output_type": "stream",
     "text": [
      "133 packages can be upgraded. Run 'apt list --upgradable' to see them.\n"
     ]
    },
    {
     "name": "stderr",
     "output_type": "stream",
     "text": [
      "\n",
      "WARNING: apt does not have a stable CLI interface. Use with caution in scripts.\n",
      "\n"
     ]
    },
    {
     "name": "stdout",
     "output_type": "stream",
     "text": [
      "The following additional packages will be installed:\n",
      "  cmake-data dh-elpa-helper emacsen-common libblkid-dev libffi-dev\n",
      "  libglib2.0-0 libglib2.0-bin libglib2.0-dev-bin libjsoncpp25 libmount-dev\n",
      "  libpcre16-3 libpcre2-16-0 libpcre2-32-0 libpcre2-dev libpcre2-posix3\n",
      "  libpcre3-dev libpcre32-3 libpcrecpp0v5 librhash0 libselinux1-dev\n",
      "  libsepol-dev pkg-config uuid-dev\n",
      "Suggested packages:\n",
      "  cmake-doc ninja-build cmake-format libgirepository1.0-dev libglib2.0-doc\n",
      "  libgdk-pixbuf2.0-bin | libgdk-pixbuf2.0-dev libxml2-utils\n",
      "The following NEW packages will be installed:\n",
      "  cmake cmake-data dh-elpa-helper emacsen-common libblkid-dev libffi-dev\n",
      "  libglib2.0-dev libglib2.0-dev-bin libjsoncpp25 libmount-dev libpcre16-3\n",
      "  libpcre2-16-0 libpcre2-32-0 libpcre2-dev libpcre2-posix3 libpcre3-dev\n",
      "  libpcre32-3 libpcrecpp0v5 librhash0 libselinux1-dev libsepol-dev libzstd-dev\n",
      "  pkg-config uuid-dev\n",
      "The following packages will be upgraded:\n",
      "  libglib2.0-0 libglib2.0-bin\n",
      "2 upgraded, 24 newly installed, 0 to remove and 131 not upgraded.\n"
     ]
    },
    {
     "name": "stderr",
     "output_type": "stream",
     "text": [
      "debconf: unable to initialize frontend: Dialog\n",
      "debconf: (Dialog frontend will not work on a dumb terminal, an emacs shell buffer, or without a controlling terminal.)\n",
      "debconf: falling back to frontend: Readline\n",
      "debconf: unable to initialize frontend: Readline\n",
      "debconf: (This frontend requires a controlling tty.)\n",
      "debconf: falling back to frontend: Teletype\n",
      "dpkg-preconfigure: unable to re-open stdin: \n"
     ]
    },
    {
     "name": "stdout",
     "output_type": "stream",
     "text": [
      "Need to get 13.9 MB of archives.\n",
      "After this operation, 55.9 MB of additional disk space will be used.\n",
      "(Reading database ... 84249 files and directories currently installed.)\n",
      "Preparing to unpack .../00-libglib2.0-bin_2.72.4-0ubuntu2.4_amd64.deb ...\n",
      "Unpacking libglib2.0-bin (2.72.4-0ubuntu2.4) over (2.72.4-0ubuntu2.3) ...\n",
      "Preparing to unpack .../01-libglib2.0-0_2.72.4-0ubuntu2.4_amd64.deb ...\n",
      "Unpacking libglib2.0-0:amd64 (2.72.4-0ubuntu2.4) over (2.72.4-0ubuntu2.3) ...\n",
      "Selecting previously unselected package libjsoncpp25:amd64.\n",
      "Preparing to unpack .../02-libjsoncpp25_1.9.5-3_amd64.deb ...\n",
      "Unpacking libjsoncpp25:amd64 (1.9.5-3) ...\n",
      "Selecting previously unselected package librhash0:amd64.\n",
      "Preparing to unpack .../03-librhash0_1.4.2-1ubuntu1_amd64.deb ...\n",
      "Unpacking librhash0:amd64 (1.4.2-1ubuntu1) ...\n",
      "Selecting previously unselected package dh-elpa-helper.\n",
      "Preparing to unpack .../04-dh-elpa-helper_2.0.9ubuntu1_all.deb ...\n",
      "Unpacking dh-elpa-helper (2.0.9ubuntu1) ...\n",
      "Selecting previously unselected package emacsen-common.\n",
      "Preparing to unpack .../05-emacsen-common_3.0.4_all.deb ...\n",
      "Unpacking emacsen-common (3.0.4) ...\n",
      "Selecting previously unselected package cmake-data.\n",
      "Preparing to unpack .../06-cmake-data_3.22.1-1ubuntu1.22.04.2_all.deb ...\n",
      "Unpacking cmake-data (3.22.1-1ubuntu1.22.04.2) ...\n",
      "Selecting previously unselected package cmake.\n",
      "Preparing to unpack .../07-cmake_3.22.1-1ubuntu1.22.04.2_amd64.deb ...\n",
      "Unpacking cmake (3.22.1-1ubuntu1.22.04.2) ...\n",
      "Selecting previously unselected package libffi-dev:amd64.\n",
      "Preparing to unpack .../08-libffi-dev_3.4.2-4_amd64.deb ...\n",
      "Unpacking libffi-dev:amd64 (3.4.2-4) ...\n",
      "Selecting previously unselected package libglib2.0-dev-bin.\n",
      "Preparing to unpack .../09-libglib2.0-dev-bin_2.72.4-0ubuntu2.4_amd64.deb ...\n",
      "Unpacking libglib2.0-dev-bin (2.72.4-0ubuntu2.4) ...\n",
      "Selecting previously unselected package uuid-dev:amd64.\n",
      "Preparing to unpack .../10-uuid-dev_2.37.2-4ubuntu3.4_amd64.deb ...\n",
      "Unpacking uuid-dev:amd64 (2.37.2-4ubuntu3.4) ...\n",
      "Selecting previously unselected package libblkid-dev:amd64.\n",
      "Preparing to unpack .../11-libblkid-dev_2.37.2-4ubuntu3.4_amd64.deb ...\n",
      "Unpacking libblkid-dev:amd64 (2.37.2-4ubuntu3.4) ...\n",
      "Selecting previously unselected package libsepol-dev:amd64.\n",
      "Preparing to unpack .../12-libsepol-dev_3.3-1build1_amd64.deb ...\n",
      "Unpacking libsepol-dev:amd64 (3.3-1build1) ...\n",
      "Selecting previously unselected package libpcre2-16-0:amd64.\n",
      "Preparing to unpack .../13-libpcre2-16-0_10.39-3ubuntu0.1_amd64.deb ...\n",
      "Unpacking libpcre2-16-0:amd64 (10.39-3ubuntu0.1) ...\n",
      "Selecting previously unselected package libpcre2-32-0:amd64.\n",
      "Preparing to unpack .../14-libpcre2-32-0_10.39-3ubuntu0.1_amd64.deb ...\n",
      "Unpacking libpcre2-32-0:amd64 (10.39-3ubuntu0.1) ...\n",
      "Selecting previously unselected package libpcre2-posix3:amd64.\n",
      "Preparing to unpack .../15-libpcre2-posix3_10.39-3ubuntu0.1_amd64.deb ...\n",
      "Unpacking libpcre2-posix3:amd64 (10.39-3ubuntu0.1) ...\n",
      "Selecting previously unselected package libpcre2-dev:amd64.\n",
      "Preparing to unpack .../16-libpcre2-dev_10.39-3ubuntu0.1_amd64.deb ...\n",
      "Unpacking libpcre2-dev:amd64 (10.39-3ubuntu0.1) ...\n",
      "Selecting previously unselected package libselinux1-dev:amd64.\n",
      "Preparing to unpack .../17-libselinux1-dev_3.3-1build2_amd64.deb ...\n",
      "Unpacking libselinux1-dev:amd64 (3.3-1build2) ...\n",
      "Selecting previously unselected package libmount-dev:amd64.\n",
      "Preparing to unpack .../18-libmount-dev_2.37.2-4ubuntu3.4_amd64.deb ...\n",
      "Unpacking libmount-dev:amd64 (2.37.2-4ubuntu3.4) ...\n",
      "Selecting previously unselected package libpcre16-3:amd64.\n",
      "Preparing to unpack .../19-libpcre16-3_2%3a8.39-13ubuntu0.22.04.1_amd64.deb ...\n",
      "Unpacking libpcre16-3:amd64 (2:8.39-13ubuntu0.22.04.1) ...\n",
      "Selecting previously unselected package libpcre32-3:amd64.\n",
      "Preparing to unpack .../20-libpcre32-3_2%3a8.39-13ubuntu0.22.04.1_amd64.deb ...\n",
      "Unpacking libpcre32-3:amd64 (2:8.39-13ubuntu0.22.04.1) ...\n",
      "Selecting previously unselected package libpcrecpp0v5:amd64.\n",
      "Preparing to unpack .../21-libpcrecpp0v5_2%3a8.39-13ubuntu0.22.04.1_amd64.deb ...\n",
      "Unpacking libpcrecpp0v5:amd64 (2:8.39-13ubuntu0.22.04.1) ...\n",
      "Selecting previously unselected package libpcre3-dev:amd64.\n",
      "Preparing to unpack .../22-libpcre3-dev_2%3a8.39-13ubuntu0.22.04.1_amd64.deb ...\n",
      "Unpacking libpcre3-dev:amd64 (2:8.39-13ubuntu0.22.04.1) ...\n",
      "Selecting previously unselected package pkg-config.\n",
      "Preparing to unpack .../23-pkg-config_0.29.2-1ubuntu3_amd64.deb ...\n",
      "Unpacking pkg-config (0.29.2-1ubuntu3) ...\n",
      "Selecting previously unselected package libglib2.0-dev:amd64.\n",
      "Preparing to unpack .../24-libglib2.0-dev_2.72.4-0ubuntu2.4_amd64.deb ...\n",
      "Unpacking libglib2.0-dev:amd64 (2.72.4-0ubuntu2.4) ...\n",
      "Selecting previously unselected package libzstd-dev:amd64.\n",
      "Preparing to unpack .../25-libzstd-dev_1.4.8+dfsg-3build1_amd64.deb ...\n",
      "Unpacking libzstd-dev:amd64 (1.4.8+dfsg-3build1) ...\n",
      "Setting up libpcrecpp0v5:amd64 (2:8.39-13ubuntu0.22.04.1) ...\n",
      "Setting up libzstd-dev:amd64 (1.4.8+dfsg-3build1) ...\n",
      "Setting up libpcre16-3:amd64 (2:8.39-13ubuntu0.22.04.1) ...\n",
      "Setting up libglib2.0-0:amd64 (2.72.4-0ubuntu2.4) ...\n",
      "No schema files found: doing nothing.\n",
      "Setting up libglib2.0-bin (2.72.4-0ubuntu2.4) ...\n",
      "Setting up libffi-dev:amd64 (3.4.2-4) ...\n",
      "Setting up libpcre2-16-0:amd64 (10.39-3ubuntu0.1) ...\n",
      "Setting up libpcre2-32-0:amd64 (10.39-3ubuntu0.1) ...\n",
      "Setting up emacsen-common (3.0.4) ...\n",
      "Setting up dh-elpa-helper (2.0.9ubuntu1) ...\n",
      "Setting up uuid-dev:amd64 (2.37.2-4ubuntu3.4) ...\n",
      "Setting up libpcre32-3:amd64 (2:8.39-13ubuntu0.22.04.1) ...\n",
      "Setting up libjsoncpp25:amd64 (1.9.5-3) ...\n",
      "Setting up pkg-config (0.29.2-1ubuntu3) ...\n",
      "Setting up libsepol-dev:amd64 (3.3-1build1) ...\n",
      "Setting up libpcre2-posix3:amd64 (10.39-3ubuntu0.1) ...\n",
      "Setting up librhash0:amd64 (1.4.2-1ubuntu1) ...\n",
      "Setting up cmake-data (3.22.1-1ubuntu1.22.04.2) ...\n",
      "Setting up libglib2.0-dev-bin (2.72.4-0ubuntu2.4) ...\n",
      "Setting up libblkid-dev:amd64 (2.37.2-4ubuntu3.4) ...\n",
      "Setting up libpcre2-dev:amd64 (10.39-3ubuntu0.1) ...\n",
      "Setting up libselinux1-dev:amd64 (3.3-1build2) ...\n",
      "Setting up libpcre3-dev:amd64 (2:8.39-13ubuntu0.22.04.1) ...\n",
      "Setting up cmake (3.22.1-1ubuntu1.22.04.2) ...\n",
      "Setting up libmount-dev:amd64 (2.37.2-4ubuntu3.4) ...\n",
      "Setting up libglib2.0-dev:amd64 (2.72.4-0ubuntu2.4) ...\n",
      "Processing triggers for libc-bin (2.35-0ubuntu3.8) ...\n",
      "Processing triggers for man-db (2.10.2-1) ...\n",
      "Processing triggers for install-info (6.8-4build1) ...\n",
      "\n",
      "Running kernel seems to be up-to-date.\n",
      "\n",
      "The processor microcode seems to be up-to-date.\n",
      "\n",
      "Services to be restarted:\n",
      " systemctl restart firewalld.service\n",
      " systemctl restart irqbalance.service\n",
      " systemctl restart packagekit.service\n",
      " systemctl restart polkit.service\n",
      "\n",
      "Service restarts being deferred:\n",
      " systemctl restart networkd-dispatcher.service\n",
      " systemctl restart unattended-upgrades.service\n",
      "\n",
      "No containers need to be restarted.\n",
      "\n",
      "No user sessions are running outdated binaries.\n",
      "\n",
      "No VM guests are running outdated hypervisor (qemu) binaries on this host.\n"
     ]
    },
    {
     "data": {
      "text/plain": [
       "<Result cmd='sudo apt -qq update && sudo apt install -yqq cmake libzstd-dev libglib2.0-dev' exited=0>"
      ]
     },
     "execution_count": 113,
     "metadata": {},
     "output_type": "execute_result"
    }
   ],
   "source": [
    "my_server.execute(\"sudo apt -qq update && sudo apt install -yqq cmake libzstd-dev libglib2.0-dev\")"
   ]
  },
  {
   "cell_type": "markdown",
   "id": "2475abd8-2cf0-4cd8-9081-7ccfa53473cb",
   "metadata": {
    "tags": []
   },
   "source": [
    "### Clone LibCacheSim Repository"
   ]
  },
  {
   "cell_type": "code",
   "execution_count": 114,
   "id": "c52ee8af-5fdb-45d2-a15a-453ea89d5fdb",
   "metadata": {
    "tags": []
   },
   "outputs": [
    {
     "name": "stderr",
     "output_type": "stream",
     "text": [
      "Cloning into 'libCacheSim'...\n"
     ]
    },
    {
     "name": "stdout",
     "output_type": "stream",
     "text": [
      "README\n",
      "libCacheSim\n",
      "my_mounting_point\n",
      "openrc\n",
      "/home/cc\n"
     ]
    },
    {
     "data": {
      "text/plain": [
       "<Result cmd='pwd' exited=0>"
      ]
     },
     "execution_count": 114,
     "metadata": {},
     "output_type": "execute_result"
    }
   ],
   "source": [
    "my_server.execute(\"cd ~ && git clone https://github.com/1a1a11a/libCacheSim\")\n",
    "my_server.execute(\"ls\")\n",
    "my_server.execute(\"pwd\")"
   ]
  },
  {
   "cell_type": "markdown",
   "id": "f0ebe6bc-cf0b-4c73-a3c2-68e2ea5817ce",
   "metadata": {
    "tags": []
   },
   "source": [
    "### Build LibCacheSim"
   ]
  },
  {
   "cell_type": "code",
   "execution_count": 116,
   "id": "d9de80b8-4bff-4457-9a9c-17ace90dd980",
   "metadata": {
    "tags": []
   },
   "outputs": [
    {
     "name": "stdout",
     "output_type": "stream",
     "text": [
      "-- CMAKE_CXX_FLAGS_DEBUG -g CMAKE_CXX_FLAGS_RELWITHDEBINFO -O2 -g -DNDEBUG CMAKE_CXX_FLAGS_RELEASE -O3 -DNDEBUG\n",
      "-- SUPPORT TTL OFF, USE_HUGEPAGE ON, LOGLEVEL INFO, ENABLE_GLCACHE OFF, ENABLE_LRB OFF, ENABLE_3L_CACHE OFF, OPT_SUPPORT_ZSTD_TRACE ON\n",
      "-- Found Zstd: /usr/lib/x86_64-linux-gnu/libzstd.so\n",
      "-- ZSTD_INCLUDE_DIR /usr/include, ZSTD_LIBRARIES /usr/lib/x86_64-linux-gnu/libzstd.so\n",
      "-- Not Found Tcmalloc: Tcmalloc_LIBRARY-NOTFOUND\n",
      "-- <<++=====------------------\\/------------------=====++>>\n",
      "-- <<++              libCacheSim summary             ++>>\n",
      "-- <<++=====------------------/\\------------------=====++>>\n",
      "-- ================== dependency related ==================\n",
      "-- glib found?     TRUE - LIBS=/usr/lib/x86_64-linux-gnu/libglib-2.0.so, header=/usr/include/glib-2.0;/usr/lib/x86_64-linux-gnu/glib-2.0/include\n",
      "-- tcmalloc found? FALSE - LIBS=, header=\n",
      "-- ZSTD found? TRUE - LIBS=/usr/lib/x86_64-linux-gnu/libzstd.so, header=/usr/include\n",
      "-- ==================== CMake related =====================\n",
      "-- platform          = Linux 5.15.0-124-generic\n",
      "-- CPU type          = x86_64\n",
      "-- cmake source      = /home/cc/libCacheSim\n",
      "-- cmake compiler    = /usr/bin/cc\n",
      "-- CMAKE_BUILD_TYPE  = Release\n",
      "-- CFLAGS            =    -Wl,--export-dynamic  -fno-builtin-malloc -fno-builtin-calloc -fno-builtin-realloc -fno-builtin-free\n",
      "-- LIBS              = /usr/lib/x86_64-linux-gnu/libglib-2.0.so\n",
      "-- Installation path = /usr/local\n",
      "-- ========================================================\n",
      "-- ============= Status of optional features ==============\n",
      "-- ========================================================\n",
      "-- Found customized directory, building customized\n",
      "-- Found priv directory, building priv\n",
      "-- Building with test\n",
      "-- coreLib: cachelib;admission;prefetch;evictionC;evictionCPP;traceReader;profiler;dataStructure;ds_hash;utils;/usr/lib/x86_64-linux-gnu/libglib-2.0.so\n",
      "-- Configuring done\n",
      "-- Generating done\n",
      "-- Build files have been written to: /home/cc/libCacheSim/_build\n",
      "[  1%] Building C object libCacheSim/cache/admission/CMakeFiles/admissionC.dir/size.c.o\n",
      "[  2%] Building CXX object libCacheSim/cache/admission/CMakeFiles/admissionCpp.dir/adaptsize/adaptsize_interface.cpp.o\n",
      "[  2%] Building C object libCacheSim/bin/traceUtils/CMakeFiles/cliReaderLib.dir/__/cli_reader_utils.c.o\n",
      "[  2%] Building C object libCacheSim/dataStructure/CMakeFiles/dataStructure.dir/bloom.c.o\n",
      "[  2%] Building C object libCacheSim/utils/CMakeFiles/utils.dir/mystr.c.o\n",
      "[  3%] Building C object libCacheSim/dataStructure/CMakeFiles/dataStructure.dir/minimalIncrementCBF.c.o\n",
      "[  4%] Building C object libCacheSim/traceReader/CMakeFiles/traceReader.dir/generalReader/binary.c.o\n",
      "[  5%] Building C object libCacheSim/traceReader/CMakeFiles/traceReader.dir/sampling/spatial.c.o\n",
      "[  5%] Building C object CMakeFiles/libCacheSim.dir/libCacheSim/cache/admission/size.c.o\n",
      "[  5%] Building C object libCacheSim/cache/admission/CMakeFiles/admissionC.dir/prob.c.o\n",
      "[  6%] Building C object libCacheSim/dataStructure/CMakeFiles/dataStructure.dir/pqueue.c.o\n",
      "[  7%] Building CXX object libCacheSim/traceAnalyzer/CMakeFiles/traceAnalyzerLib.dir/analyzer.cpp.o\n",
      "[  6%] Building CXX object libCacheSim/cache/admission/CMakeFiles/admissionCpp.dir/adaptsize/adaptsize.cpp.o\n",
      "[  8%] Building C object CMakeFiles/libCacheSim.dir/libCacheSim/cache/admission/bloomfilter.c.o\n",
      "[  8%] Building C object libCacheSim/traceReader/CMakeFiles/traceReader.dir/customizedReader/lcs.c.o\n",
      "[  8%] Building C object libCacheSim/traceReader/CMakeFiles/traceReader.dir/sampling/temporal.c.o\n",
      "[  8%] Building C object libCacheSim/cache/admission/CMakeFiles/admissionC.dir/sizeProbabilistic.c.o\n",
      "[  8%] Building C object libCacheSim/cache/prefetch/CMakeFiles/prefetchC.dir/Mithril.c.o\n",
      "[  8%] Building C object libCacheSim/cache/prefetch/CMakeFiles/prefetchC.dir/OBL.c.o\n",
      "[  8%] Building C object libCacheSim/cache/admission/CMakeFiles/admissionC.dir/bloomfilter.c.o\n",
      "[  8%] Building C object libCacheSim/utils/CMakeFiles/utils.dir/logging.c.o\n",
      "[  8%] Building CXX object libCacheSim/mrcProfiler/CMakeFiles/mrcProfilerLib.dir/mrcProfiler.cpp.o\n",
      "[  8%] Building C object libCacheSim/utils/CMakeFiles/utils.dir/mysys.c.o\n",
      "[ 10%] Building C object CMakeFiles/libCacheSim.dir/libCacheSim/cache/eviction/ARCv0.c.o\n",
      "[ 10%] Building CXX object libCacheSim/traceAnalyzer/CMakeFiles/traceAnalyzerLib.dir/accessPattern.cpp.o\n",
      "[ 10%] Building C object libCacheSim/dataStructure/CMakeFiles/dataStructure.dir/hashtable/chainedHashtable.c.o\n",
      "[ 10%] Building C object libCacheSim/dataStructure/CMakeFiles/dataStructure.dir/splay.c.o\n",
      "[ 10%] Building C object libCacheSim/utils/CMakeFiles/utils.dir/mymath.c.o\n",
      "[ 10%] Building CXX object libCacheSim/bin/customized/SOSP23/CMakeFiles/traceOneHitLib.dir/oneHit/oneHit.cpp.o\n",
      "[ 10%] Building C object libCacheSim/dataStructure/hash/CMakeFiles/ds_hash.dir/murmur3.c.o\n",
      "[ 11%] Building C object CMakeFiles/libCacheSim.dir/libCacheSim/cache/admission/sizeProbabilistic.c.o\n",
      "[ 11%] Building CXX object libCacheSim/traceAnalyzer/CMakeFiles/traceAnalyzerLib.dir/popularity.cpp.o\n",
      "[ 12%] Building CXX object libCacheSim/traceAnalyzer/CMakeFiles/traceAnalyzerLib.dir/popularityDecay.cpp.o\n",
      "[ 12%] Building C object libCacheSim/traceReader/CMakeFiles/traceReader.dir/generalReader/txt.c.o\n",
      "[ 13%] Building C object CMakeFiles/libCacheSim.dir/libCacheSim/cache/eviction/FIFO.c.o\n",
      "[ 12%] Building C object libCacheSim/traceReader/CMakeFiles/traceReader.dir/reader.c.o\n",
      "[ 13%] Building C object libCacheSim/traceReader/CMakeFiles/traceReader.dir/generalReader/libcsv.c.o\n",
      "[ 13%] Building C object libCacheSim/cache/prefetch/CMakeFiles/prefetchC.dir/PG.c.o\n",
      "[ 14%] Building C object CMakeFiles/libCacheSim.dir/libCacheSim/cache/eviction/ARC.c.o\n",
      "[ 14%] Building C object CMakeFiles/libCacheSim.dir/libCacheSim/cache/admission/prob.c.o\n",
      "[ 14%] Building C object libCacheSim/traceReader/CMakeFiles/traceReader.dir/generalReader/csv.c.o\n",
      "[ 16%] Building CXX object CMakeFiles/libCacheSim.dir/libCacheSim/cache/eviction/LHD/lhd.cpp.o\n",
      "[ 15%] Building CXX object libCacheSim/traceAnalyzer/CMakeFiles/traceAnalyzerLib.dir/reqRate.cpp.o\n",
      "[ 15%] Building CXX object libCacheSim/traceAnalyzer/CMakeFiles/traceAnalyzerLib.dir/size.cpp.o\n",
      "[ 16%] Building C object CMakeFiles/libCacheSim.dir/libCacheSim/cache/eviction/FIFO_Reinsertion.c.o\n",
      "[ 16%] Building CXX object libCacheSim/traceAnalyzer/CMakeFiles/traceAnalyzerLib.dir/experimental/createFutureReuseCCDF.cpp.o\n",
      "[ 16%] Building CXX object libCacheSim/traceAnalyzer/CMakeFiles/traceAnalyzerLib.dir/reuse.cpp.o\n",
      "[ 16%] Building CXX object libCacheSim/traceAnalyzer/CMakeFiles/traceAnalyzerLib.dir/ttl.cpp.o\n",
      "[ 16%] Building C object libCacheSim/dataStructure/CMakeFiles/dataStructure.dir/hash/murmur3.c.o\n",
      "[ 16%] Building C object CMakeFiles/libCacheSim.dir/libCacheSim/cache/cache.c.o\n",
      "[ 18%] Building C object CMakeFiles/libCacheSim.dir/libCacheSim/cache/eviction/Belady.c.o\n",
      "[ 18%] Building C object libCacheSim/dataStructure/CMakeFiles/dataStructure.dir/hashtable/chainedHashTableV2.c.o\n",
      "[ 18%] Building C object libCacheSim/traceReader/CMakeFiles/traceReader.dir/generalReader/zstdReader.c.o\n",
      "[ 18%] Building C object CMakeFiles/libCacheSim.dir/libCacheSim/cache/eviction/BeladySize.c.o\n",
      "[ 18%] Building CXX object libCacheSim/traceAnalyzer/CMakeFiles/traceAnalyzerLib.dir/experimental/sizeChange.cpp.o\n",
      "[ 18%] Building C object CMakeFiles/libCacheSim.dir/libCacheSim/cache/eviction/Cacheus.c.o\n",
      "[ 19%] Building CXX object libCacheSim/traceAnalyzer/CMakeFiles/traceAnalyzerLib.dir/experimental/lifetime.cpp.o\n",
      "[ 19%] Building C object CMakeFiles/libCacheSim.dir/libCacheSim/cache/cacheObj.c.o\n",
      "[ 19%] Building CXX object libCacheSim/traceAnalyzer/CMakeFiles/traceAnalyzerLib.dir/experimental/probAtAge.cpp.o\n",
      "[ 20%] Building C object CMakeFiles/libCacheSim.dir/libCacheSim/cache/eviction/LFUDA.c.o\n",
      "[ 21%] Building C object CMakeFiles/libCacheSim.dir/libCacheSim/cache/eviction/LIRS.c.o\n",
      "[ 21%] Building C object CMakeFiles/libCacheSim.dir/libCacheSim/cache/eviction/CAR.c.o\n",
      "[ 22%] Building C object CMakeFiles/libCacheSim.dir/libCacheSim/cache/eviction/CR_LFU.c.o\n",
      "[ 22%] Building CXX object CMakeFiles/libCacheSim.dir/libCacheSim/cache/eviction/LHD/LHD_Interface.cpp.o\n",
      "[ 22%] Building C object CMakeFiles/libCacheSim.dir/libCacheSim/cache/eviction/FIFO_Merge.c.o\n",
      "[ 22%] Building C object CMakeFiles/libCacheSim.dir/libCacheSim/cache/eviction/Clock.c.o\n",
      "[ 23%] Building C object CMakeFiles/libCacheSim.dir/libCacheSim/cache/eviction/ClockPro.c.o\n",
      "[ 24%] Building C object CMakeFiles/libCacheSim.dir/libCacheSim/cache/eviction/LRUv0.c.o\n",
      "[ 24%] Building C object CMakeFiles/libCacheSim.dir/libCacheSim/cache/eviction/LeCaR.c.o\n",
      "[ 24%] Building C object CMakeFiles/libCacheSim.dir/libCacheSim/cache/eviction/LFU.c.o\n",
      "[ 24%] Building C object CMakeFiles/libCacheSim.dir/libCacheSim/cache/eviction/LRUProb.c.o\n",
      "[ 24%] Building C object CMakeFiles/libCacheSim.dir/libCacheSim/cache/eviction/Hyperbolic.c.o\n",
      "[ 24%] Building C object CMakeFiles/libCacheSim.dir/libCacheSim/cache/eviction/LRU.c.o\n",
      "[ 24%] Building C object CMakeFiles/libCacheSim.dir/libCacheSim/cache/eviction/SLRU.c.o\n",
      "[ 24%] Building C object CMakeFiles/libCacheSim.dir/libCacheSim/cache/eviction/Random.c.o\n",
      "[ 25%] Building C object CMakeFiles/libCacheSim.dir/libCacheSim/cache/eviction/RIPQ.c.o\n",
      "[ 26%] Building C object CMakeFiles/libCacheSim.dir/libCacheSim/cache/eviction/MRU.c.o\n",
      "[ 26%] Building C object CMakeFiles/libCacheSim.dir/libCacheSim/cache/eviction/RandomLRU.c.o\n",
      "[ 26%] Building C object CMakeFiles/libCacheSim.dir/libCacheSim/cache/eviction/LeCaRv0.c.o\n",
      "[ 26%] Building C object CMakeFiles/libCacheSim.dir/libCacheSim/cache/eviction/QDLP.c.o\n",
      "[ 27%] Building C object CMakeFiles/libCacheSim.dir/libCacheSim/cache/eviction/S3FIFO.c.o\n",
      "[ 28%] Building C object CMakeFiles/libCacheSim.dir/libCacheSim/cache/eviction/RandomTwo.c.o\n",
      "[ 28%] Building C object CMakeFiles/libCacheSim.dir/libCacheSim/cache/eviction/S3FIFOv0.c.o\n",
      "[ 28%] Building C object CMakeFiles/libCacheSim.dir/libCacheSim/cache/eviction/S3FIFOd.c.o\n",
      "[ 29%] Building C object CMakeFiles/libCacheSim.dir/libCacheSim/cache/eviction/SR_LRU.c.o\n",
      "[ 29%] Building C object CMakeFiles/libCacheSim.dir/libCacheSim/cache/eviction/SLRUv0.c.o\n",
      "[ 30%] Building C object CMakeFiles/libCacheSim.dir/libCacheSim/cache/eviction/TwoQ.c.o\n",
      "[ 30%] Building C object CMakeFiles/libCacheSim.dir/libCacheSim/cache/eviction/Size.c.o\n",
      "[ 30%] Building C object CMakeFiles/libCacheSim.dir/libCacheSim/cache/eviction/WTinyLFU.c.o\n",
      "[ 30%] Building C object CMakeFiles/libCacheSim.dir/libCacheSim/cache/eviction/Sieve.c.o\n",
      "[ 30%] Building CXX object CMakeFiles/libCacheSim.dir/libCacheSim/cache/eviction/cpp/GDSF.cpp.o\n",
      "[ 31%] Building CXX object CMakeFiles/libCacheSim.dir/libCacheSim/cache/eviction/cpp/LFU.cpp.o\n",
      "[ 31%] Building C object CMakeFiles/libCacheSim.dir/libCacheSim/cache/eviction/nop.c.o\n",
      "[ 31%] Building CXX object CMakeFiles/libCacheSim.dir/libCacheSim/cache/eviction/cpp/LRU_K.cpp.o\n",
      "[ 31%] Building C object CMakeFiles/libCacheSim.dir/libCacheSim/cache/prefetch/Mithril.c.o\n",
      "[ 32%] Building C object CMakeFiles/libCacheSim.dir/libCacheSim/cache/plugin.c.o\n",
      "[ 32%] Building C object CMakeFiles/libCacheSim.dir/libCacheSim/cache/eviction/fifo/LP_SFIFO.c.o\n",
      "[ 32%] Building C object CMakeFiles/libCacheSim.dir/libCacheSim/cache/eviction/fifo/LP_ARC.c.o\n",
      "[ 33%] Building C object CMakeFiles/libCacheSim.dir/libCacheSim/cache/prefetch/PG.c.o\n",
      "[ 33%] Building C object CMakeFiles/libCacheSim.dir/libCacheSim/cache/prefetch/OBL.c.o\n",
      "[ 34%] Building C object CMakeFiles/libCacheSim.dir/libCacheSim/cache/eviction/fifo/LP_TwoQ.c.o\n",
      "[ 35%] Building C object CMakeFiles/libCacheSim.dir/libCacheSim/cache/eviction/fifo/SFIFO.c.o\n",
      "[ 35%] Building C object CMakeFiles/libCacheSim.dir/libCacheSim/cache/eviction/fifo/SFIFOv0.c.o\n",
      "[ 35%] Building C object CMakeFiles/libCacheSim.dir/libCacheSim/cache/eviction/belady/FIFO_Belady.c.o\n",
      "[ 35%] Building C object CMakeFiles/libCacheSim.dir/libCacheSim/cache/eviction/belady/LRU_Belady.c.o\n",
      "[ 35%] Building C object CMakeFiles/libCacheSim.dir/libCacheSim/cache/eviction/priv/MClock.c.o\n",
      "[ 36%] Building C object CMakeFiles/libCacheSim.dir/libCacheSim/cache/eviction/belady/Sieve_Belady.c.o\n",
      "[ 36%] Building C object CMakeFiles/libCacheSim.dir/libCacheSim/cache/eviction/priv/QDLPv0.c.o\n",
      "[ 37%] Building C object CMakeFiles/libCacheSim.dir/libCacheSim/cache/eviction/priv/S3FIFOdv2.c.o\n",
      "[ 37%] Building C object CMakeFiles/libCacheSim.dir/libCacheSim/cache/eviction/priv/myMQv1.c.o\n",
      "[ 37%] Building C object CMakeFiles/libCacheSim.dir/libCacheSim/traceReader/customizedReader/lcs.c.o\n",
      "[ 37%] Building C object CMakeFiles/libCacheSim.dir/libCacheSim/traceReader/generalReader/zstdReader.c.o\n",
      "[ 37%] Building C object CMakeFiles/libCacheSim.dir/libCacheSim/traceReader/generalReader/csv.c.o\n",
      "[ 37%] Building C object CMakeFiles/libCacheSim.dir/libCacheSim/traceReader/reader.c.o\n",
      "[ 38%] Building C object CMakeFiles/libCacheSim.dir/libCacheSim/traceReader/generalReader/txt.c.o\n",
      "[ 40%] Building C object CMakeFiles/libCacheSim.dir/libCacheSim/traceReader/generalReader/libcsv.c.o\n",
      "[ 41%] Building C object CMakeFiles/libCacheSim.dir/libCacheSim/traceReader/generalReader/binary.c.o\n",
      "[ 41%] Building C object CMakeFiles/libCacheSim.dir/libCacheSim/dataStructure/hashtable/chainedHashtable.c.o\n",
      "[ 41%] Building C object CMakeFiles/libCacheSim.dir/libCacheSim/profiler/profilerLRU.c.o\n",
      "[ 41%] Building C object CMakeFiles/libCacheSim.dir/libCacheSim/dataStructure/hashtable/chainedHashTableV2.c.o\n",
      "[ 41%] Building C object CMakeFiles/libCacheSim.dir/libCacheSim/dataStructure/histogram.c.o\n",
      "[ 42%] Building C object CMakeFiles/libCacheSim.dir/libCacheSim/dataStructure/pqueue.c.o\n",
      "[ 43%] Building C object CMakeFiles/libCacheSim.dir/libCacheSim/dataStructure/hash/murmur3.c.o\n",
      "[ 43%] Building C object CMakeFiles/libCacheSim.dir/libCacheSim/dataStructure/splay_tuple.c.o\n",
      "[ 41%] Building C object CMakeFiles/libCacheSim.dir/libCacheSim/dataStructure/bloom.c.o\n",
      "[ 44%] Building C object CMakeFiles/libCacheSim.dir/libCacheSim/utils/mystr.c.o\n",
      "[ 44%] Building C object CMakeFiles/libCacheSim.dir/libCacheSim/dataStructure/splay.c.o\n",
      "[ 44%] Building C object CMakeFiles/libCacheSim.dir/libCacheSim/utils/mysys.c.o\n",
      "[ 44%] Building C object CMakeFiles/libCacheSim.dir/libCacheSim/dataStructure/minimalIncrementCBF.c.o\n",
      "[ 45%] Building C object CMakeFiles/libCacheSim.dir/libCacheSim/profiler/simulator.c.o\n",
      "[ 45%] Building C object CMakeFiles/libCacheSim.dir/libCacheSim/profiler/dist.c.o\n",
      "[ 45%] Building C object CMakeFiles/libCacheSim.dir/libCacheSim/utils/logging.c.o\n",
      "[ 45%] Building C object CMakeFiles/libCacheSim.dir/libCacheSim/utils/mymath.c.o\n",
      "[ 46%] Linking C static library libadmissionC.a\n",
      "[ 47%] Linking C static library libutils.a\n",
      "[ 47%] Linking C static library libds_hash.a\n",
      "[ 47%] Built target admissionC\n",
      "[ 47%] Built target utils\n",
      "[ 47%] Built target ds_hash\n",
      "[ 47%] Linking C static library libcliReaderLib.a\n",
      "[ 47%] Built target cliReaderLib\n",
      "[ 47%] Linking C static library libdataStructure.a\n",
      "[ 47%] Built target dataStructure\n",
      "[ 47%] Building C object libCacheSim/cache/CMakeFiles/cachelib.dir/cache.c.o\n",
      "[ 47%] Building C object libCacheSim/cache/CMakeFiles/cachelib.dir/cacheObj.c.o\n",
      "[ 48%] Linking C static library libprefetchC.a\n",
      "[ 49%] Linking C static library libtraceReader.a\n",
      "[ 49%] Built target prefetchC\n",
      "[ 49%] Built target traceReader\n",
      "[ 49%] Building C object libCacheSim/profiler/CMakeFiles/profiler.dir/dist.c.o\n",
      "[ 49%] Building C object libCacheSim/profiler/CMakeFiles/profiler.dir/profilerLRU.c.o\n",
      "[ 50%] Building C object libCacheSim/profiler/CMakeFiles/profiler.dir/simulator.c.o\n",
      "[ 51%] Linking C static library libcachelib.a\n",
      "[ 51%] Built target cachelib\n",
      "[ 52%] Building CXX object libCacheSim/cache/eviction/CMakeFiles/evictionCPP.dir/cpp/LFU.cpp.o\n",
      "[ 52%] Building CXX object libCacheSim/cache/eviction/CMakeFiles/evictionCPP.dir/cpp/GDSF.cpp.o\n",
      "[ 52%] Building CXX object libCacheSim/cache/eviction/CMakeFiles/evictionCPP.dir/LHD/lhd.cpp.o\n",
      "[ 53%] Building CXX object libCacheSim/cache/eviction/CMakeFiles/evictionCPP.dir/LHD/LHD_Interface.cpp.o\n",
      "[ 54%] Building C object libCacheSim/cache/eviction/CMakeFiles/evictionC.dir/FIFO.c.o\n",
      "[ 54%] Building C object libCacheSim/cache/eviction/CMakeFiles/evictionC.dir/Clock.c.o\n",
      "[ 54%] Building C object libCacheSim/cache/eviction/CMakeFiles/evictionC.dir/LFUDA.c.o\n",
      "[ 54%] Building C object libCacheSim/cache/eviction/CMakeFiles/evictionC.dir/Random.c.o\n",
      "[ 55%] Building C object libCacheSim/cache/eviction/CMakeFiles/evictionC.dir/MRU.c.o\n",
      "[ 55%] Building C object libCacheSim/cache/eviction/CMakeFiles/evictionC.dir/RandomTwo.c.o\n",
      "[ 55%] Building C object libCacheSim/cache/eviction/CMakeFiles/evictionC.dir/ARC.c.o\n",
      "[ 56%] Building C object libCacheSim/cache/eviction/CMakeFiles/evictionC.dir/LFU.c.o\n",
      "[ 56%] Building C object libCacheSim/cache/eviction/CMakeFiles/evictionC.dir/Size.c.o\n",
      "[ 56%] Building C object libCacheSim/cache/eviction/CMakeFiles/evictionC.dir/LRU.c.o\n",
      "[ 57%] Building C object libCacheSim/cache/eviction/CMakeFiles/evictionC.dir/SLRUv0.c.o\n",
      "[ 58%] Building C object libCacheSim/cache/eviction/CMakeFiles/evictionC.dir/ClockPro.c.o\n",
      "[ 58%] Building C object libCacheSim/cache/eviction/CMakeFiles/evictionC.dir/SLRU.c.o\n",
      "[ 59%] Building C object libCacheSim/cache/eviction/CMakeFiles/evictionC.dir/nop.c.o\n",
      "[ 59%] Building C object libCacheSim/cache/eviction/CMakeFiles/evictionC.dir/LRUv0.c.o\n",
      "[ 59%] Building C object libCacheSim/cache/eviction/CMakeFiles/evictionC.dir/CR_LFU.c.o\n",
      "[ 60%] Building C object libCacheSim/cache/eviction/CMakeFiles/evictionC.dir/BeladySize.c.o\n",
      "[ 60%] Building C object libCacheSim/cache/eviction/CMakeFiles/evictionC.dir/Belady.c.o\n",
      "[ 60%] Building C object libCacheSim/cache/eviction/CMakeFiles/evictionC.dir/SR_LRU.c.o\n",
      "[ 61%] Building C object libCacheSim/cache/eviction/CMakeFiles/evictionC.dir/WTinyLFU.c.o\n",
      "[ 62%] Building C object libCacheSim/cache/eviction/CMakeFiles/evictionC.dir/Cacheus.c.o\n",
      "[ 62%] Building C object libCacheSim/cache/eviction/CMakeFiles/evictionC.dir/TwoQ.c.o\n",
      "[ 62%] Building C object libCacheSim/cache/eviction/CMakeFiles/evictionC.dir/S3FIFOv0.c.o\n",
      "[ 62%] Building C object libCacheSim/cache/eviction/CMakeFiles/evictionC.dir/Hyperbolic.c.o\n",
      "[ 62%] Building C object libCacheSim/cache/eviction/CMakeFiles/evictionC.dir/S3FIFOd.c.o\n",
      "[ 62%] Building C object libCacheSim/cache/eviction/CMakeFiles/evictionC.dir/LeCaR.c.o\n",
      "[ 62%] Building C object libCacheSim/cache/eviction/CMakeFiles/evictionC.dir/S3FIFO.c.o\n",
      "[ 62%] Building C object libCacheSim/cache/eviction/CMakeFiles/evictionC.dir/ARCv0.c.o\n",
      "[ 62%] Building C object libCacheSim/cache/eviction/CMakeFiles/evictionC.dir/priv/S3FIFOdv2.c.o\n",
      "[ 63%] Building C object libCacheSim/cache/eviction/CMakeFiles/evictionC.dir/RandomLRU.c.o\n",
      "[ 63%] Building C object libCacheSim/cache/eviction/CMakeFiles/evictionC.dir/QDLP.c.o\n",
      "[ 64%] Building C object libCacheSim/cache/eviction/CMakeFiles/evictionC.dir/priv/myMQv1.c.o\n",
      "[ 64%] Building C object libCacheSim/cache/eviction/CMakeFiles/evictionC.dir/LeCaRv0.c.o\n",
      "[ 65%] Building C object libCacheSim/cache/eviction/CMakeFiles/evictionC.dir/other/S3LRU.c.o\n",
      "[ 65%] Building C object libCacheSim/cache/eviction/CMakeFiles/evictionC.dir/FIFO_Reinsertion.c.o\n",
      "[ 65%] Building C object libCacheSim/cache/eviction/CMakeFiles/evictionC.dir/CAR.c.o\n",
      "[ 66%] Building C object libCacheSim/cache/eviction/CMakeFiles/evictionC.dir/LIRS.c.o\n",
      "[ 67%] Building C object libCacheSim/cache/eviction/CMakeFiles/evictionC.dir/fifo/LP_TwoQ.c.o\n",
      "[ 67%] Building C object libCacheSim/cache/eviction/CMakeFiles/evictionC.dir/fifo/LP_SFIFO.c.o\n",
      "[ 67%] Building C object libCacheSim/cache/eviction/CMakeFiles/evictionC.dir/fifo/LP_ARC.c.o\n",
      "[ 67%] Building C object libCacheSim/cache/eviction/CMakeFiles/evictionC.dir/other/flashProb.c.o\n",
      "[ 67%] Building C object libCacheSim/cache/eviction/CMakeFiles/evictionC.dir/priv/QDLPv0.c.o\n",
      "[ 68%] Building C object libCacheSim/cache/eviction/CMakeFiles/evictionC.dir/LRUProb.c.o\n",
      "[ 69%] Building C object libCacheSim/cache/eviction/CMakeFiles/evictionC.dir/priv/MClock.c.o\n",
      "[ 69%] Building C object libCacheSim/cache/eviction/CMakeFiles/evictionC.dir/FIFO_Merge.c.o\n",
      "[ 69%] Building C object libCacheSim/cache/eviction/CMakeFiles/evictionC.dir/Sieve.c.o\n",
      "[ 70%] Linking CXX static library libadmissionCpp.a\n",
      "[ 70%] Building C object libCacheSim/cache/eviction/CMakeFiles/evictionC.dir/fifo/SFIFO.c.o\n",
      "[ 71%] Building C object libCacheSim/cache/eviction/CMakeFiles/evictionC.dir/fifo/SFIFOv0.c.o\n",
      "[ 72%] Building C object libCacheSim/cache/eviction/CMakeFiles/evictionC.dir/belady/LRU_Belady.c.o\n",
      "[ 72%] Building C object libCacheSim/cache/eviction/CMakeFiles/evictionC.dir/belady/Sieve_Belady.c.o\n",
      "[ 72%] Building C object libCacheSim/cache/eviction/CMakeFiles/evictionC.dir/belady/FIFO_Belady.c.o\n",
      "[ 72%] Built target admissionCpp\n",
      "[ 72%] Linking CXX static library libtraceOneHitLib.a\n",
      "[ 72%] Built target traceOneHitLib\n",
      "[ 72%] Linking C static library libprofiler.a\n",
      "[ 72%] Built target profiler\n",
      "[ 72%] Linking C static library libevictionC.a\n",
      "[ 72%] Linking C static library liblibCacheSim.a\n",
      "[ 72%] Built target evictionC\n",
      "[ 72%] Built target libCacheSim\n",
      "[ 72%] Linking CXX static library libevictionCPP.a\n",
      "[ 72%] Built target evictionCPP\n",
      "[ 72%] Building CXX object libCacheSim/bin/traceUtils/CMakeFiles/traceFilter.dir/traceFilterMain.cpp.o\n",
      "[ 72%] Building C object libCacheSim/bin/cachesim/CMakeFiles/cachesim.dir/cli_parser.c.o\n",
      "[ 72%] Building C object libCacheSim/bin/distUtil/CMakeFiles/distUtil.dir/__/cli_reader_utils.c.o\n",
      "[ 73%] Building C object libCacheSim/bin/distUtil/CMakeFiles/distUtil.dir/main.c.o\n",
      "[ 73%] Building C object libCacheSim/bin/distUtil/CMakeFiles/distUtil.dir/cli.c.o\n",
      "[ 73%] Building C object libCacheSim/bin/cachesim/CMakeFiles/cachesim.dir/__/cli_reader_utils.c.o\n",
      "[ 73%] Building CXX object libCacheSim/bin/traceUtils/CMakeFiles/traceConv.dir/utils.cpp.o\n",
      "[ 74%] Building C object libCacheSim/bin/MRC/CMakeFiles/MRC.dir/__/__/dataStructure/splay_tuple.c.o\n",
      "[ 74%] Building C object libCacheSim/bin/customized/SOSP23/CMakeFiles/traceOneHit.dir/oneHit/main.c.o\n",
      "[ 74%] Building CXX object libCacheSim/bin/debug/CMakeFiles/debug.dir/main.cpp.o\n",
      "[ 75%] Building C object test/CMakeFiles/testReader.dir/test_traceReader.c.o\n",
      "[ 75%] Building C object libCacheSim/bin/MRC/CMakeFiles/MRC.dir/Miniatures.c.o\n",
      "[ 76%] Building CXX object libCacheSim/bin/customized/SOSP23/CMakeFiles/traceOneHit.dir/oneHit/oneHit.cpp.o\n",
      "[ 76%] Building C object libCacheSim/bin/customized/SOSP23/CMakeFiles/traceOneHit.dir/__/__/cli_reader_utils.c.o\n",
      "[ 76%] Building C object libCacheSim/bin/MRC/CMakeFiles/MRC.dir/main.c.o\n",
      "[ 76%] Building C object libCacheSim/bin/MRC/CMakeFiles/MRC.dir/parser_shard.c.o\n",
      "[ 78%] Building C object test/CMakeFiles/testEvictionAlgo.dir/test_evictionAlgo.c.o\n",
      "[ 78%] Building C object libCacheSim/bin/cachesim/CMakeFiles/cachesim.dir/main.c.o\n",
      "[ 78%] Building CXX object libCacheSim/bin/traceUtils/CMakeFiles/tracePrint.dir/cli_parser.cpp.o\n",
      "[ 78%] Building C object libCacheSim/bin/MRC/CMakeFiles/MRC.dir/__/cli_reader_utils.c.o\n",
      "[ 79%] Building C object libCacheSim/bin/customized/SOSP23/CMakeFiles/flash.dir/__/__/cachesim/sim.c.o\n",
      "[ 79%] Building C object libCacheSim/bin/MRC/CMakeFiles/MRC.dir/SHARDS.c.o\n",
      "[ 81%] Building C object libCacheSim/bin/customized/SOSP23/CMakeFiles/flash.dir/__/__/cachesim/cli_parser.c.o\n",
      "[ 81%] Building C object test/CMakeFiles/testSimulator.dir/test_simulator.c.o\n",
      "[ 81%] Building CXX object libCacheSim/bin/customized/SOSP23/CMakeFiles/flash.dir/flash/flash.cpp.o\n",
      "[ 81%] Building CXX object libCacheSim/bin/traceUtils/CMakeFiles/traceFilter.dir/cli_parser.cpp.o\n",
      "[ 81%] Building C object libCacheSim/bin/MRC/CMakeFiles/MRC.dir/__/__/dataStructure/histogram.c.o\n",
      "[ 81%] Building CXX object libCacheSim/bin/traceUtils/CMakeFiles/traceConv.dir/traceConvMain.cpp.o\n",
      "[ 81%] Building CXX object libCacheSim/bin/traceUtils/CMakeFiles/traceConv.dir/traceConvOracleGeneral.cpp.o\n",
      "[ 81%] Building C object libCacheSim/bin/debug/CMakeFiles/debug_aligned.dir/aligned.c.o\n",
      "[ 81%] Building CXX object libCacheSim/bin/traceUtils/CMakeFiles/tracePrint.dir/tracePrintMain.cpp.o\n",
      "[ 81%] Building C object libCacheSim/bin/MRC/CMakeFiles/MRC.dir/__/__/dataStructure/splay.c.o\n",
      "[ 81%] Building C object test/CMakeFiles/testDataStructure.dir/test_dataStructure.c.o\n",
      "[ 83%] Building C object libCacheSim/bin/MRC/CMakeFiles/MRC.dir/parser_mini.c.o\n",
      "[ 83%] Building C object test/CMakeFiles/testMRC.dir/test_MRC.c.o\n",
      "[ 83%] Building C object libCacheSim/bin/cachesim/CMakeFiles/cachesim.dir/sim.c.o\n",
      "[ 83%] Building CXX object libCacheSim/bin/traceUtils/CMakeFiles/traceConv.dir/traceConvLCS.cpp.o\n",
      "[ 83%] Building C object test/CMakeFiles/testProfilerLRU.dir/test_profilerLRU.c.o\n",
      "[ 83%] Building C object libCacheSim/bin/customized/SOSP23/CMakeFiles/traceOneHit.dir/oneHit/cli_parser.c.o\n",
      "[ 83%] Building CXX object libCacheSim/bin/traceUtils/CMakeFiles/traceConv.dir/cli_parser.cpp.o\n",
      "[ 83%] Building C object test/CMakeFiles/testDistUtils.dir/test_dist.c.o\n",
      "[ 84%] Building C object test/CMakeFiles/testPrefetchAlgo.dir/test_prefetchAlgo.c.o\n",
      "[ 85%] Building C object test/CMakeFiles/testAdmissionAlgo.dir/test_admissionAlgo.c.o\n",
      "[ 86%] Building C object test/CMakeFiles/testUtils.dir/test_utils.c.o\n",
      "[ 86%] Building CXX object libCacheSim/bin/debug/CMakeFiles/debug_fileOp.dir/fileOp.cpp.o\n",
      "[ 86%] Building C object libCacheSim/bin/priv/lesscache/CMakeFiles/lesscache.dir/main.c.o\n",
      "[ 86%] Building C object libCacheSim/bin/customized/SOSP23/CMakeFiles/flash.dir/__/__/cli_reader_utils.c.o\n",
      "[ 87%] Linking CXX executable ../bin/testDataStructure\n",
      "[ 88%] Linking CXX executable ../bin/testUtils\n",
      "[ 88%] Linking CXX executable ../../../../bin/lesscache\n",
      "[ 89%] Linking CXX executable ../bin/testProfilerLRU\n",
      "[ 90%] Linking CXX executable ../bin/testMRC\n",
      "[ 90%] Linking CXX executable ../bin/testReader\n",
      "[ 90%] Built target testDataStructure\n",
      "[ 90%] Linking CXX executable ../bin/testDistUtils\n",
      "[ 90%] Built target testUtils\n",
      "[ 90%] Linking CXX executable ../../../bin/distUtil\n",
      "[ 90%] Linking CXX executable ../bin/testPrefetchAlgo\n",
      "[ 90%] Linking CXX executable ../../../bin/debug_aligned\n",
      "[ 90%] Built target testProfilerLRU\n",
      "[ 90%] Built target testMRC\n",
      "[ 90%] Linking CXX executable ../bin/testSimulator\n",
      "[ 90%] Built target lesscache\n",
      "[ 90%] Built target testReader\n",
      "[ 90%] Built target testDistUtils\n",
      "[ 90%] Built target distUtil\n",
      "[ 90%] Built target debug_aligned\n",
      "[ 90%] Linking CXX executable ../bin/testAdmissionAlgo\n",
      "[ 90%] Built target testSimulator\n",
      "[ 91%] Linking CXX executable ../../../bin/cachesim\n",
      "[ 91%] Linking CXX executable ../bin/testEvictionAlgo\n",
      "[ 91%] Built target testPrefetchAlgo\n",
      "[ 91%] Linking CXX executable ../../../bin/MRC\n",
      "[ 91%] Linking CXX executable ../../../bin/debug_fileOp\n",
      "[ 91%] Linking CXX executable ../../../bin/tracePrint\n",
      "[ 91%] Linking CXX static library libmrcProfilerLib.a\n",
      "[ 92%] Linking CXX static library libtraceAnalyzerLib.a\n",
      "[ 92%] Built target testAdmissionAlgo\n",
      "[ 93%] Linking CXX executable ../../../../bin/flash\n",
      "[ 93%] Built target cachesim\n",
      "[ 93%] Built target mrcProfilerLib\n",
      "[ 93%] Built target debug_fileOp\n",
      "[ 93%] Built target testEvictionAlgo\n",
      "[ 93%] Built target traceAnalyzerLib\n",
      "[ 93%] Built target MRC\n",
      "[ 94%] Linking CXX executable ../../../bin/traceFilter\n",
      "[ 94%] Building CXX object libCacheSim/bin/mrcProfiler/CMakeFiles/mrcProfiler.dir/cli_parser.cpp.o\n",
      "[ 95%] Linking CXX executable ../../../bin/debug\n",
      "[ 95%] Built target tracePrint\n",
      "[ 96%] Building C object libCacheSim/bin/mrcProfiler/CMakeFiles/mrcProfiler.dir/__/cli_reader_utils.c.o\n",
      "[ 96%] Building CXX object libCacheSim/bin/mrcProfiler/CMakeFiles/mrcProfiler.dir/main.cpp.o\n",
      "[ 96%] Building CXX object test/CMakeFiles/testMrcProfiler.dir/test_mrcProfiler.cpp.o\n",
      "[ 96%] Building CXX object libCacheSim/bin/traceAnalyzer/CMakeFiles/traceAnalyzer.dir/cli_parser.cpp.o\n",
      "[ 96%] Building CXX object libCacheSim/bin/traceAnalyzer/CMakeFiles/traceAnalyzer.dir/main.cpp.o\n",
      "[ 97%] Building C object libCacheSim/bin/traceAnalyzer/CMakeFiles/traceAnalyzer.dir/__/cli_reader_utils.c.o\n",
      "[ 97%] Built target flash\n",
      "[ 97%] Built target debug\n",
      "[ 97%] Built target traceFilter\n",
      "[ 98%] Linking CXX executable ../../../../bin/traceOneHit\n",
      "[ 98%] Built target traceOneHit\n",
      "[ 99%] Linking CXX executable ../../../bin/mrcProfiler\n",
      "[ 99%] Linking CXX executable ../../../bin/traceAnalyzer\n",
      "[ 99%] Linking CXX executable ../bin/testMrcProfiler\n",
      "[ 99%] Built target traceAnalyzer\n",
      "[ 99%] Built target mrcProfiler\n",
      "[100%] Linking CXX executable ../../../bin/traceConv\n",
      "[100%] Built target testMrcProfiler\n",
      "[100%] Built target traceConv\n",
      "Consolidate compiler generated dependencies of target libCacheSim\n",
      "[ 31%] Built target libCacheSim\n",
      "Consolidate compiler generated dependencies of target dataStructure\n",
      "[ 34%] Built target dataStructure\n",
      "Consolidate compiler generated dependencies of target cachelib\n",
      "[ 35%] Built target cachelib\n",
      "Consolidate compiler generated dependencies of target admissionC\n",
      "[ 37%] Built target admissionC\n",
      "Consolidate compiler generated dependencies of target admissionCpp\n",
      "[ 38%] Built target admissionCpp\n",
      "Consolidate compiler generated dependencies of target utils\n",
      "[ 40%] Built target utils\n",
      "Consolidate compiler generated dependencies of target evictionC\n",
      "[ 58%] Built target evictionC\n",
      "Consolidate compiler generated dependencies of target evictionCPP\n",
      "[ 60%] Built target evictionCPP\n",
      "Consolidate compiler generated dependencies of target prefetchC\n",
      "[ 62%] Built target prefetchC\n",
      "Consolidate compiler generated dependencies of target ds_hash\n",
      "[ 63%] Built target ds_hash\n",
      "Consolidate compiler generated dependencies of target traceReader\n",
      "[ 67%] Built target traceReader\n",
      "Consolidate compiler generated dependencies of target profiler\n",
      "[ 68%] Built target profiler\n",
      "Consolidate compiler generated dependencies of target MRC\n",
      "[ 71%] Built target MRC\n",
      "Consolidate compiler generated dependencies of target cachesim\n",
      "[ 73%] Built target cachesim\n",
      "Consolidate compiler generated dependencies of target distUtil\n",
      "[ 74%] Built target distUtil\n",
      "Consolidate compiler generated dependencies of target cliReaderLib\n",
      "[ 74%] Built target cliReaderLib\n",
      "Consolidate compiler generated dependencies of target tracePrint\n",
      "[ 75%] Built target tracePrint\n",
      "Consolidate compiler generated dependencies of target traceConv\n",
      "[ 77%] Built target traceConv\n",
      "Consolidate compiler generated dependencies of target traceFilter\n",
      "[ 78%] Built target traceFilter\n",
      "Consolidate compiler generated dependencies of target traceAnalyzerLib\n",
      "[ 83%] Built target traceAnalyzerLib\n",
      "Consolidate compiler generated dependencies of target traceAnalyzer\n",
      "[ 84%] Built target traceAnalyzer\n",
      "Consolidate compiler generated dependencies of target mrcProfilerLib\n",
      "[ 84%] Built target mrcProfilerLib\n",
      "Consolidate compiler generated dependencies of target mrcProfiler\n",
      "[ 86%] Built target mrcProfiler\n",
      "Consolidate compiler generated dependencies of target debug\n",
      "[ 87%] Built target debug\n",
      "Consolidate compiler generated dependencies of target debug_aligned\n",
      "[ 87%] Built target debug_aligned\n",
      "Consolidate compiler generated dependencies of target debug_fileOp\n",
      "[ 88%] Built target debug_fileOp\n",
      "Consolidate compiler generated dependencies of target traceOneHitLib\n",
      "[ 88%] Built target traceOneHitLib\n",
      "Consolidate compiler generated dependencies of target traceOneHit\n",
      "[ 90%] Built target traceOneHit\n",
      "Consolidate compiler generated dependencies of target flash\n",
      "[ 92%] Built target flash\n",
      "Consolidate compiler generated dependencies of target lesscache\n",
      "[ 92%] Built target lesscache\n",
      "Consolidate compiler generated dependencies of target testReader\n",
      "[ 92%] Built target testReader\n",
      "Consolidate compiler generated dependencies of target testDistUtils\n",
      "[ 92%] Built target testDistUtils\n",
      "Consolidate compiler generated dependencies of target testProfilerLRU\n",
      "[ 93%] Built target testProfilerLRU\n",
      "Consolidate compiler generated dependencies of target testSimulator\n",
      "[ 94%] Built target testSimulator\n",
      "Consolidate compiler generated dependencies of target testEvictionAlgo\n",
      "[ 95%] Built target testEvictionAlgo\n",
      "Consolidate compiler generated dependencies of target testMRC\n",
      "[ 96%] Built target testMRC\n",
      "Consolidate compiler generated dependencies of target testAdmissionAlgo\n",
      "[ 97%] Built target testAdmissionAlgo\n",
      "Consolidate compiler generated dependencies of target testPrefetchAlgo\n",
      "[ 98%] Built target testPrefetchAlgo\n",
      "Consolidate compiler generated dependencies of target testDataStructure\n",
      "[ 99%] Built target testDataStructure\n",
      "Consolidate compiler generated dependencies of target testUtils\n",
      "[100%] Built target testUtils\n",
      "Consolidate compiler generated dependencies of target testMrcProfiler\n",
      "[100%] Built target testMrcProfiler\n",
      "Install the project...\n",
      "-- Install configuration: \"Release\"\n",
      "-- Up-to-date: /usr/local/include\n",
      "-- Installing: /usr/local/include/config.h.in\n",
      "-- Installing: /usr/local/include/libCacheSim\n",
      "-- Installing: /usr/local/include/libCacheSim/experimental\n",
      "-- Installing: /usr/local/include/libCacheSim/experimental/distHeatmap.h\n",
      "-- Installing: /usr/local/include/libCacheSim/experimental/heatmap.h\n",
      "-- Installing: /usr/local/include/libCacheSim/reader.h\n",
      "-- Installing: /usr/local/include/libCacheSim/cacheObj.h\n",
      "-- Installing: /usr/local/include/libCacheSim/cache.h\n",
      "-- Installing: /usr/local/include/libCacheSim/prefetchAlgo.h\n",
      "-- Installing: /usr/local/include/libCacheSim/logging.h\n",
      "-- Installing: /usr/local/include/libCacheSim/dist.h\n",
      "-- Installing: /usr/local/include/libCacheSim/simulator.h\n",
      "-- Installing: /usr/local/include/libCacheSim/enum.h\n",
      "-- Installing: /usr/local/include/libCacheSim/profilerLRU.h\n",
      "-- Installing: /usr/local/include/libCacheSim/macro.h\n",
      "-- Installing: /usr/local/include/libCacheSim/mem.h\n",
      "-- Installing: /usr/local/include/libCacheSim/sampling.h\n",
      "-- Installing: /usr/local/include/libCacheSim/plugin.h\n",
      "-- Installing: /usr/local/include/libCacheSim/evictionAlgo\n",
      "-- Installing: /usr/local/include/libCacheSim/evictionAlgo/Cacheus.h\n",
      "-- Installing: /usr/local/include/libCacheSim/prefetchAlgo\n",
      "-- Installing: /usr/local/include/libCacheSim/prefetchAlgo/PG.h\n",
      "-- Installing: /usr/local/include/libCacheSim/prefetchAlgo/Mithril.h\n",
      "-- Installing: /usr/local/include/libCacheSim/prefetchAlgo/OBL.h\n",
      "-- Installing: /usr/local/include/libCacheSim/const.h\n",
      "-- Installing: /usr/local/include/libCacheSim/request.h\n",
      "-- Installing: /usr/local/include/libCacheSim/evictionAlgo.h\n",
      "-- Installing: /usr/local/include/libCacheSim/admissionAlgo.h\n",
      "-- Installing: /usr/local/include/libCacheSim.h\n",
      "-- Installing: /usr/local/include/config.h\n",
      "-- Installing: /usr/local/lib/pkgconfig/libCacheSim.pc\n",
      "-- Installing: /usr/share/cmake-3.22/Modules/FindlibCacheSim.cmake\n",
      "-- Installing: /usr/local/lib/liblibCacheSim.a\n",
      "-- Up-to-date: /usr/local/include/libCacheSim.h\n",
      "-- Installing: /usr/local/bin/MRC\n",
      "-- Installing: /usr/local/bin/cachesim\n",
      "-- Up-to-date: /usr/local/bin/cachesim\n",
      "-- Installing: /usr/local/bin/traceConv\n",
      "-- Installing: /usr/local/bin/tracePrint\n",
      "-- Installing: /usr/local/bin/traceFilter\n",
      "-- Installing: /usr/local/bin/traceAnalyzer\n",
      "-- Installing: /usr/local/bin/mrcProfiler\n"
     ]
    },
    {
     "data": {
      "text/plain": [
       "<Result cmd='cd ~/libCacheSim && mkdir -p _build && cd _build && cmake .. -Wno-dev && make -j -s && sudo make install' exited=0>"
      ]
     },
     "execution_count": 116,
     "metadata": {},
     "output_type": "execute_result"
    }
   ],
   "source": [
    "my_server.execute(\"cd ~/libCacheSim && mkdir -p _build && cd _build && cmake .. -Wno-dev && make -j -s && sudo make install\")"
   ]
  },
  {
   "cell_type": "markdown",
   "id": "98e5f5b8-e2db-450d-985b-9974d5732b77",
   "metadata": {
    "tags": []
   },
   "source": [
    "### Test by Running `cachesim --help`"
   ]
  },
  {
   "cell_type": "code",
   "execution_count": 117,
   "id": "e4774cd5-3fb5-4b8d-859c-c6fc7b2fdfec",
   "metadata": {
    "tags": []
   },
   "outputs": [
    {
     "name": "stdout",
     "output_type": "stream",
     "text": [
      "Usage: cachesim [OPTION...] trace_path trace_type eviction_algo cache_size\n",
      "example: ./cachesim /trace/path csv LRU 100MB\n",
      "\n",
      "trace can be zstd compressed\n",
      "cache_size is in byte, but also support KB/MB/GB\n",
      "supported trace_type: txt/csv/twr/vscsi/oracleGeneralBin\n",
      "supported eviction_algo: LRU/LFU/FIFO/ARC/LeCaR/Cacheus\n",
      "print-head-req: Print the first few requests when simulating start\n",
      "\n",
      " trace reader related parameters\n",
      "\n",
      "  -n, --num-req=-1           Num of requests to process, default -1 means all\n",
      "                             requests in the trace\n",
      "  -s, --sample-ratio=1       Sample ratio, 1 means no sampling, 0.01 means\n",
      "                             sample 1% of objects\n",
      "  -t, --trace-type-params=\"obj-id-col=1;delimiter=,\"\n",
      "                             Parameters used for csv trace, e.g.,\n",
      "                             \"obj-id-col=1;delimiter=,\"\n",
      "\n",
      " cache related parameters:\n",
      "\n",
      "      --admission-params=\"prob=0.8\"\n",
      "                             params for admission algorithm\n",
      "  -a, --admission=bloom-filter   Admission algorithm: size/bloom-filter/prob\n",
      "  -e, --eviction-params=\"n-seg=4\"\n",
      "                             optional params for each eviction algorithm, e.g.,\n",
      "                             n-seg=4\n",
      "      --prefetch-params=\"block-size=65536\"\n",
      "                             optional params for each prefetching algorithm,\n",
      "                             e.g., block-size=65536\n",
      "  -p, --prefetch=Mithril     Prefetching algorithm: Mithril/OBL/PG/AMP\n",
      "\n",
      " Other options:\n",
      "\n",
      "      --ignore-obj-size=false   specify to ignore the object size from the\n",
      "                             trace\n",
      "      --num-thread=16        Number of threads if running when using default\n",
      "                             cache sizes\n",
      "  -o, --output=output        Output path\n",
      "\n",
      " Other less common options:\n",
      "\n",
      "      --consider-obj-metadata=false\n",
      "                             Whether consider per object metadata size in the\n",
      "                             simulated cache\n",
      "      --print-head-req=false Print the first few requests\n",
      "      --report-interval=3600 how often to report stat when running one cache\n",
      "      --use-ttl=false        specify to use ttl from the trace\n",
      "  -v, --verbose=1            Produce verbose output\n",
      "      --warmup-sec=0         warm up time in seconds\n",
      "\n",
      "  -?, --help                 Give this help list\n",
      "      --usage                Give a short usage message\n",
      "  -V, --version              Print program version\n",
      "\n",
      "Mandatory or optional arguments to long options are also mandatory or optional\n",
      "for any corresponding short options.\n",
      "\n",
      "Report bugs to https://groups.google.com/g/libcachesim.\n"
     ]
    },
    {
     "data": {
      "text/plain": [
       "<Result cmd='cachesim --help' exited=0>"
      ]
     },
     "execution_count": 117,
     "metadata": {},
     "output_type": "execute_result"
    }
   ],
   "source": [
    "my_server.execute(\"cachesim --help\")"
   ]
  },
  {
   "cell_type": "markdown",
   "id": "92c24177-7d7c-4dce-9410-1aea900a82d7",
   "metadata": {
    "tags": []
   },
   "source": [
    "## Run The Experiment\n",
    "You can use included trace, but the trace is small. My recommendation would be to use traces from this link -> https://ftp.pdl.cmu.edu/pub/datasets/twemcacheWorkload/cacheDatasets/"
   ]
  },
  {
   "cell_type": "markdown",
   "id": "77b7da56-8d51-4b50-879d-085be7ac1508",
   "metadata": {},
   "source": [
    "### Function"
   ]
  },
  {
   "cell_type": "code",
   "execution_count": 118,
   "id": "8c74ff8f-c5f7-42b7-a9bc-e2bbf47aa975",
   "metadata": {
    "tags": []
   },
   "outputs": [],
   "source": [
    "def lru(p, t, s, opt=''):\n",
    "    return f\"cd ~/libCacheSim/data && cachesim {p} {t} LRU {','.join(str(x) for x in s)} {opt}\".strip()\n",
    "\n",
    "def bloomfilter(p, t, s, opt=''):\n",
    "    return lru(p,t,s,opt) + ' -a bloom-filter'\n",
    "\n",
    "def adaptsize(p, t, s, opt=''):\n",
    "    return lru(p,t,s,opt) + ' -a adaptsize'"
   ]
  },
  {
   "cell_type": "markdown",
   "id": "014c0d99-2656-4937-8db9-539660b0b247",
   "metadata": {},
   "source": [
    "We can use LRU for eviction algorithm and use it as baseline"
   ]
  },
  {
   "cell_type": "markdown",
   "id": "6dd716a1-a835-4e47-ad68-9237ec246183",
   "metadata": {},
   "source": [
    "### Use included trace"
   ]
  },
  {
   "cell_type": "markdown",
   "id": "cc68e13b-01d6-47e8-ab90-da9e9d8f6024",
   "metadata": {
    "tags": []
   },
   "source": [
    "You can see all included trace here."
   ]
  },
  {
   "cell_type": "code",
   "execution_count": 119,
   "id": "8e7d7c43-5423-4bda-a751-27935186fc29",
   "metadata": {
    "tags": []
   },
   "outputs": [
    {
     "name": "stdout",
     "output_type": "stream",
     "text": [
      "cloudPhysicsIO.csv\n",
      "cloudPhysicsIO.oracleGeneral.bin\n",
      "cloudPhysicsIO.txt\n",
      "cloudPhysicsIO.vscsi\n",
      "twitter_cluster52.csv\n",
      "twitter_cluster52_10m.csv.zst\n"
     ]
    },
    {
     "data": {
      "text/plain": [
       "<Result cmd='cd ~/libCacheSim/data && ls' exited=0>"
      ]
     },
     "execution_count": 119,
     "metadata": {},
     "output_type": "execute_result"
    }
   ],
   "source": [
    "my_server.execute(\"cd ~/libCacheSim/data && ls\")"
   ]
  },
  {
   "cell_type": "code",
   "execution_count": 120,
   "id": "dba85cd3-72db-49d8-83c9-5d9355d9b25a",
   "metadata": {
    "tags": []
   },
   "outputs": [
    {
     "name": "stderr",
     "output_type": "stream",
     "text": [
      "\u001b[32m[INFO]  04-11-2025 09:38:40 cli_reader_utils.c:253  (tid=140262062863488): calculating working set size...\n",
      "\u001b[0m\u001b[32m[INFO]  04-11-2025 09:38:40 cli_reader_utils.c:279  (tid=140262062863488): working set size: 48974 object 2029769728 byte\n",
      "\u001b[0m\u001b[32m[INFO]  04-11-2025 09:38:40 cli_parser.c:553  (tid=140262062863488): trace path: cloudPhysicsIO.oracleGeneral.bin, trace_type ORACLE_GENERAL_TRACE, ofilepath result/cloudPhysicsIO.oracleGeneral.bin.cachesim, 96 threads, warmup -1 sec, total 1 algo x 2 size = 2 caches, LRU\n",
      "\u001b[0m\u001b[32m[INFO]  04-11-2025 09:38:40 simulator.c:288  (tid=140262062863488): simulate_with_multi_caches starts computation, num_warmup_req 0, start cache LRU size 194MiB, end cache LRU size 387MiB, 2 caches, 96 threads, please wait\n",
      "\u001b[0m"
     ]
    },
    {
     "name": "stdout",
     "output_type": "stream",
     "text": [
      "\n",
      "cloudPhysicsIO.oracleGeneral.bin evict:LRU[] admit:[] cache size      193MiB, 113872 req, miss ratio 0.8097, byte miss ratio 0.9518\n",
      "cloudPhysicsIO.oracleGeneral.bin evict:LRU[] admit:[] cache size      387MiB, 113872 req, miss ratio 0.7333, byte miss ratio 0.8642\n"
     ]
    },
    {
     "name": "stderr",
     "output_type": "stream",
     "text": [
      "\u001b[32m[INFO]  04-11-2025 09:38:44 cli_reader_utils.c:253  (tid=140050625156224): calculating working set size...\n",
      "\u001b[0m\u001b[32m[INFO]  04-11-2025 09:38:44 cli_reader_utils.c:279  (tid=140050625156224): working set size: 48974 object 2029769728 byte\n",
      "\u001b[0m\u001b[32m[INFO]  04-11-2025 09:38:44 cli_parser.c:553  (tid=140050625156224): trace path: cloudPhysicsIO.oracleGeneral.bin, trace_type ORACLE_GENERAL_TRACE, ofilepath result/cloudPhysicsIO.oracleGeneral.bin.cachesim, 96 threads, warmup -1 sec, total 1 algo x 2 size = 2 caches, LRU, admission: bloom-filter\n",
      "\u001b[0m\u001b[32m[INFO]  04-11-2025 09:38:44 simulator.c:288  (tid=140050625156224): simulate_with_multi_caches starts computation, num_warmup_req 0, start cache LRU size 194MiB, end cache LRU size 387MiB, 2 caches, 96 threads, please wait\n",
      "\u001b[0m"
     ]
    },
    {
     "name": "stdout",
     "output_type": "stream",
     "text": [
      "\n",
      "cloudPhysicsIO.oracleGeneral.bin evict:LRU[] admit:BloomFilter[] cache size      193MiB, 113872 req, miss ratio 0.8142, byte miss ratio 0.9365\n",
      "cloudPhysicsIO.oracleGeneral.bin evict:LRU[] admit:BloomFilter[] cache size      387MiB, 113872 req, miss ratio 0.7763, byte miss ratio 0.8875\n"
     ]
    },
    {
     "name": "stderr",
     "output_type": "stream",
     "text": [
      "\u001b[32m[INFO]  04-11-2025 09:38:48 cli_reader_utils.c:253  (tid=140147849294976): calculating working set size...\n",
      "\u001b[0m\u001b[32m[INFO]  04-11-2025 09:38:48 cli_reader_utils.c:279  (tid=140147849294976): working set size: 48974 object 2029769728 byte\n",
      "\u001b[0m\u001b[32m[INFO]  04-11-2025 09:38:48 cli_parser.c:553  (tid=140147849294976): trace path: cloudPhysicsIO.oracleGeneral.bin, trace_type ORACLE_GENERAL_TRACE, ofilepath result/cloudPhysicsIO.oracleGeneral.bin.cachesim, 96 threads, warmup -1 sec, total 1 algo x 2 size = 2 caches, LRU, admission: adaptsize\n",
      "\u001b[0m\u001b[32m[INFO]  04-11-2025 09:38:48 simulator.c:288  (tid=140147849294976): simulate_with_multi_caches starts computation, num_warmup_req 0, start cache LRU size 194MiB, end cache LRU size 387MiB, 2 caches, 96 threads, please wait\n",
      "\u001b[0m"
     ]
    },
    {
     "name": "stdout",
     "output_type": "stream",
     "text": [
      "\n",
      "cloudPhysicsIO.oracleGeneral.bin evict:LRU[] admit:AdaptSize[] cache size      193MiB, 113872 req, miss ratio 0.7134, byte miss ratio 0.8988\n",
      "cloudPhysicsIO.oracleGeneral.bin evict:LRU[] admit:AdaptSize[] cache size      387MiB, 113872 req, miss ratio 0.6830, byte miss ratio 0.8661\n"
     ]
    },
    {
     "data": {
      "text/plain": [
       "<Result cmd='cd ~/libCacheSim/data && cachesim cloudPhysicsIO.oracleGeneral.bin oracleGeneral LRU 0.1,0.2 -a adaptsize' exited=0>"
      ]
     },
     "execution_count": 120,
     "metadata": {},
     "output_type": "execute_result"
    }
   ],
   "source": [
    "cache_size = [0.1,0.2]\n",
    "my_server.execute(lru(\"cloudPhysicsIO.oracleGeneral.bin\", \"oracleGeneral\", cache_size))\n",
    "my_server.execute(bloomfilter(\"cloudPhysicsIO.oracleGeneral.bin\", \"oracleGeneral\", cache_size))\n",
    "my_server.execute(adaptsize(\"cloudPhysicsIO.oracleGeneral.bin\", \"oracleGeneral\", cache_size))"
   ]
  },
  {
   "cell_type": "markdown",
   "id": "8d1fd37f-3f1b-49f9-ad32-eda3914599bc",
   "metadata": {},
   "source": [
    "### Use bigger trace"
   ]
  },
  {
   "cell_type": "markdown",
   "id": "307674a1-a561-431e-a552-14e7974c34f8",
   "metadata": {},
   "source": [
    "Define the urls, you can find it here https://ftp.pdl.cmu.edu/pub/datasets/twemcacheWorkload/cacheDatasets/"
   ]
  },
  {
   "cell_type": "code",
   "execution_count": 121,
   "id": "de21b865-9c33-4b9f-b70b-d5fca0aa4198",
   "metadata": {},
   "outputs": [],
   "source": [
    "url = [\n",
    "    \"https://ftp.pdl.cmu.edu/pub/datasets/twemcacheWorkload/cacheDatasets/twitter/cluster50.oracleGeneral.zst\",\n",
    "    \"https://ftp.pdl.cmu.edu/pub/datasets/twemcacheWorkload/cacheDatasets/twitter/cluster53.oracleGeneral.zst\"\n",
    "]"
   ]
  },
  {
   "cell_type": "markdown",
   "id": "5be671c7-5a4c-44cd-8228-a55e0cdbfe09",
   "metadata": {
    "tags": []
   },
   "source": [
    "Download it"
   ]
  },
  {
   "cell_type": "code",
   "execution_count": 122,
   "id": "ee17737c-4701-4c83-b1fe-43d01fd77c92",
   "metadata": {},
   "outputs": [
    {
     "name": "stdout",
     "output_type": "stream",
     "text": [
      "Downloading https://ftp.pdl.cmu.edu/pub/datasets/twemcacheWorkload/cacheDatasets/twitter/cluster50.oracleGeneral.zst\n",
      "Downloading https://ftp.pdl.cmu.edu/pub/datasets/twemcacheWorkload/cacheDatasets/twitter/cluster53.oracleGeneral.zst\n"
     ]
    }
   ],
   "source": [
    "def download(u):\n",
    "    print(\"Downloading\", u)\n",
    "    my_server.execute(f\"cd ~/libCacheSim/data && wget -q {u}\")\n",
    "\n",
    "for u in url:\n",
    "    download(u)"
   ]
  },
  {
   "cell_type": "markdown",
   "id": "bb4b35f9-b063-4b5c-9af4-08f80d077736",
   "metadata": {},
   "source": [
    "Our experiment function"
   ]
  },
  {
   "cell_type": "code",
   "execution_count": 123,
   "id": "108129b5-5e49-4753-962f-b8711d15022d",
   "metadata": {
    "tags": []
   },
   "outputs": [],
   "source": [
    "def run_exp(cache_size):\n",
    "    trace = [ u[u.rfind(\"/\") + 1:] for u in url ]\n",
    "    for t in trace:\n",
    "        my_server.execute(lru(t, \"oracleGeneral\", cache_size))\n",
    "        my_server.execute(bloomfilter(t, \"oracleGeneral\", cache_size))\n",
    "        my_server.execute(adaptsize(t, \"oracleGeneral\", cache_size, \"--admission-params=\\\"max-iteration=15,reconf-interval=3000000\\\"\"))"
   ]
  },
  {
   "cell_type": "markdown",
   "id": "17845e39-3068-413b-a6d6-b089827e3adc",
   "metadata": {},
   "source": [
    "Our experiment, we use relative cache size"
   ]
  },
  {
   "cell_type": "code",
   "execution_count": 124,
   "id": "083c30e1-b788-4616-8e2d-270fee576ad9",
   "metadata": {
    "tags": []
   },
   "outputs": [
    {
     "name": "stderr",
     "output_type": "stream",
     "text": [
      "\u001b[32m[INFO]  04-11-2025 09:39:39 cli_reader_utils.c:253  (tid=140082643137664): calculating working set size...\n",
      "\u001b[0m\u001b[32m[INFO]  04-11-2025 09:39:49 cli_reader_utils.c:276  (tid=140082643137664): estimated working set size (0.09 sample ratio): 2660988 object 43347397808 byte\n",
      "\u001b[0m\u001b[32m[INFO]  04-11-2025 09:39:49 cli_parser.c:553  (tid=140082643137664): trace path: cluster50.oracleGeneral.zst, trace_type ORACLE_GENERAL_TRACE, ofilepath result/cluster50.oracleGeneral.zst.cachesim, 96 threads, warmup -1 sec, total 1 algo x 2 size = 2 caches, LRU\n",
      "\u001b[0m\u001b[32m[INFO]  04-11-2025 09:39:49 simulator.c:288  (tid=140082643137664): simulate_with_multi_caches starts computation, num_warmup_req 0, start cache LRU size 413MiB, end cache LRU size 4GiB, 2 caches, 96 threads, please wait\n",
      "\u001b[0m"
     ]
    },
    {
     "name": "stdout",
     "output_type": "stream",
     "text": [
      "\n",
      "cluster50.oracleGeneral.zst evict:LRU[] admit:[] cache size      413MiB, 139655585 req, miss ratio 0.6013, byte miss ratio 0.7479\n",
      "cluster50.oracleGeneral.zst evict:LRU[] admit:[] cache size     4133MiB, 139655585 req, miss ratio 0.2122, byte miss ratio 0.2266\n"
     ]
    },
    {
     "name": "stderr",
     "output_type": "stream",
     "text": [
      "\u001b[32m[INFO]  04-11-2025 09:40:21 cli_reader_utils.c:253  (tid=139751536112768): calculating working set size...\n",
      "\u001b[0m\u001b[32m[INFO]  04-11-2025 09:40:31 cli_reader_utils.c:276  (tid=139751536112768): estimated working set size (0.09 sample ratio): 2660988 object 43347397808 byte\n",
      "\u001b[0m\u001b[32m[INFO]  04-11-2025 09:40:31 cli_parser.c:553  (tid=139751536112768): trace path: cluster50.oracleGeneral.zst, trace_type ORACLE_GENERAL_TRACE, ofilepath result/cluster50.oracleGeneral.zst.cachesim, 96 threads, warmup -1 sec, total 1 algo x 2 size = 2 caches, LRU, admission: bloom-filter\n",
      "\u001b[0m\u001b[32m[INFO]  04-11-2025 09:40:31 simulator.c:288  (tid=139751536112768): simulate_with_multi_caches starts computation, num_warmup_req 0, start cache LRU size 413MiB, end cache LRU size 4GiB, 2 caches, 96 threads, please wait\n",
      "\u001b[0m"
     ]
    },
    {
     "name": "stdout",
     "output_type": "stream",
     "text": [
      "\n",
      "cluster50.oracleGeneral.zst evict:LRU[] admit:BloomFilter[] cache size      413MiB, 139655585 req, miss ratio 0.6108, byte miss ratio 0.7464\n",
      "cluster50.oracleGeneral.zst evict:LRU[] admit:BloomFilter[] cache size     4133MiB, 139655585 req, miss ratio 0.2222, byte miss ratio 0.2282\n"
     ]
    },
    {
     "name": "stderr",
     "output_type": "stream",
     "text": [
      "\u001b[32m[INFO]  04-11-2025 09:41:21 cli_reader_utils.c:253  (tid=140026206577792): calculating working set size...\n",
      "\u001b[0m\u001b[32m[INFO]  04-11-2025 09:41:31 cli_reader_utils.c:276  (tid=140026206577792): estimated working set size (0.09 sample ratio): 2660988 object 43347397808 byte\n",
      "\u001b[0m\u001b[32m[INFO]  04-11-2025 09:41:31 cli_parser.c:553  (tid=140026206577792): trace path: cluster50.oracleGeneral.zst, trace_type ORACLE_GENERAL_TRACE, ofilepath result/cluster50.oracleGeneral.zst.cachesim, 96 threads, warmup -1 sec, total 1 algo x 2 size = 2 caches, LRU, admission: adaptsize, admission-params: max-iteration=15,reconf-interval=3000000\n",
      "\u001b[0m\u001b[32m[INFO]  04-11-2025 09:41:31 simulator.c:288  (tid=140026206577792): simulate_with_multi_caches starts computation, num_warmup_req 0, start cache LRU size 413MiB, end cache LRU size 4GiB, 2 caches, 96 threads, please wait\n",
      "\u001b[0m"
     ]
    },
    {
     "name": "stdout",
     "output_type": "stream",
     "text": [
      "\n",
      "cluster50.oracleGeneral.zst evict:LRU[] admit:AdaptSize[max-iteration=15,reconf-interval=3000000] cache size      413MiB, 139655585 req, miss ratio 0.3496, byte miss ratio 0.9591\n",
      "cluster50.oracleGeneral.zst evict:LRU[] admit:AdaptSize[max-iteration=15,reconf-interval=3000000] cache size     4133MiB, 139655585 req, miss ratio 0.2187, byte miss ratio 0.5696\n"
     ]
    },
    {
     "name": "stderr",
     "output_type": "stream",
     "text": [
      "\u001b[32m[INFO]  04-11-2025 09:47:22 cli_reader_utils.c:253  (tid=139690753205376): calculating working set size...\n",
      "\u001b[0m\u001b[32m[INFO]  04-11-2025 09:47:39 cli_reader_utils.c:276  (tid=139690753205376): estimated working set size (0.09 sample ratio): 7243918 object 10832632250 byte\n",
      "\u001b[0m\u001b[32m[INFO]  04-11-2025 09:47:39 cli_parser.c:553  (tid=139690753205376): trace path: cluster53.oracleGeneral.zst, trace_type ORACLE_GENERAL_TRACE, ofilepath result/cluster53.oracleGeneral.zst.cachesim, 96 threads, warmup -1 sec, total 1 algo x 2 size = 2 caches, LRU\n",
      "\u001b[0m\u001b[32m[INFO]  04-11-2025 09:47:39 simulator.c:288  (tid=139690753205376): simulate_with_multi_caches starts computation, num_warmup_req 0, start cache LRU size 103MiB, end cache LRU size 1GiB, 2 caches, 96 threads, please wait\n",
      "\u001b[0m"
     ]
    },
    {
     "name": "stdout",
     "output_type": "stream",
     "text": [
      "\n",
      "cluster53.oracleGeneral.zst evict:LRU[] admit:[] cache size      103MiB, 246508262 req, miss ratio 0.3147, byte miss ratio 0.3374\n",
      "cluster53.oracleGeneral.zst evict:LRU[] admit:[] cache size     1033MiB, 246508262 req, miss ratio 0.1088, byte miss ratio 0.0954\n"
     ]
    },
    {
     "name": "stderr",
     "output_type": "stream",
     "text": [
      "\u001b[32m[INFO]  04-11-2025 09:48:22 cli_reader_utils.c:253  (tid=139743772447872): calculating working set size...\n",
      "\u001b[0m\u001b[32m[INFO]  04-11-2025 09:48:39 cli_reader_utils.c:276  (tid=139743772447872): estimated working set size (0.09 sample ratio): 7243918 object 10832632250 byte\n",
      "\u001b[0m\u001b[32m[INFO]  04-11-2025 09:48:39 cli_parser.c:553  (tid=139743772447872): trace path: cluster53.oracleGeneral.zst, trace_type ORACLE_GENERAL_TRACE, ofilepath result/cluster53.oracleGeneral.zst.cachesim, 96 threads, warmup -1 sec, total 1 algo x 2 size = 2 caches, LRU, admission: bloom-filter\n",
      "\u001b[0m\u001b[32m[INFO]  04-11-2025 09:48:39 simulator.c:288  (tid=139743772447872): simulate_with_multi_caches starts computation, num_warmup_req 0, start cache LRU size 103MiB, end cache LRU size 1GiB, 2 caches, 96 threads, please wait\n",
      "\u001b[0m"
     ]
    },
    {
     "name": "stdout",
     "output_type": "stream",
     "text": [
      "\n",
      "cluster53.oracleGeneral.zst evict:LRU[] admit:BloomFilter[] cache size      103MiB, 246508262 req, miss ratio 0.3363, byte miss ratio 0.3386\n",
      "cluster53.oracleGeneral.zst evict:LRU[] admit:BloomFilter[] cache size     1033MiB, 246508262 req, miss ratio 0.1315, byte miss ratio 0.0974\n"
     ]
    },
    {
     "name": "stderr",
     "output_type": "stream",
     "text": [
      "\u001b[32m[INFO]  04-11-2025 09:49:31 cli_reader_utils.c:253  (tid=139875206001792): calculating working set size...\n",
      "\u001b[0m\u001b[32m[INFO]  04-11-2025 09:49:48 cli_reader_utils.c:276  (tid=139875206001792): estimated working set size (0.09 sample ratio): 7243918 object 10832632250 byte\n",
      "\u001b[0m\u001b[32m[INFO]  04-11-2025 09:49:48 cli_parser.c:553  (tid=139875206001792): trace path: cluster53.oracleGeneral.zst, trace_type ORACLE_GENERAL_TRACE, ofilepath result/cluster53.oracleGeneral.zst.cachesim, 96 threads, warmup -1 sec, total 1 algo x 2 size = 2 caches, LRU, admission: adaptsize, admission-params: max-iteration=15,reconf-interval=3000000\n",
      "\u001b[0m\u001b[32m[INFO]  04-11-2025 09:49:48 simulator.c:288  (tid=139875206001792): simulate_with_multi_caches starts computation, num_warmup_req 0, start cache LRU size 103MiB, end cache LRU size 1GiB, 2 caches, 96 threads, please wait\n",
      "\u001b[0m"
     ]
    },
    {
     "name": "stdout",
     "output_type": "stream",
     "text": [
      "\n",
      "cluster53.oracleGeneral.zst evict:LRU[] admit:AdaptSize[max-iteration=15,reconf-interval=3000000] cache size      103MiB, 246508262 req, miss ratio 0.2345, byte miss ratio 0.5614\n",
      "cluster53.oracleGeneral.zst evict:LRU[] admit:AdaptSize[max-iteration=15,reconf-interval=3000000] cache size     1033MiB, 246508262 req, miss ratio 0.1051, byte miss ratio 0.1802\n"
     ]
    }
   ],
   "source": [
    "run_exp([0.01, 0.1])"
   ]
  }
 ],
 "metadata": {
  "kernelspec": {
   "display_name": "Python 3 (ipykernel)",
   "language": "python",
   "name": "python3"
  },
  "language_info": {
   "codemirror_mode": {
    "name": "ipython",
    "version": 3
   },
   "file_extension": ".py",
   "mimetype": "text/x-python",
   "name": "python",
   "nbconvert_exporter": "python",
   "pygments_lexer": "ipython3",
   "version": "3.10.9"
  }
 },
 "nbformat": 4,
 "nbformat_minor": 5
}
